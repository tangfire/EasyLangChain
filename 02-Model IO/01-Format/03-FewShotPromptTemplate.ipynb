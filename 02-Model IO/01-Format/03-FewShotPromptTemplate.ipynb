{
 "cells": [
  {
   "metadata": {},
   "cell_type": "markdown",
   "source": [
    "# 少量示例的提示词模版的使用\n",
    "FewShotPromptTemplate: 与PromptTemplate一起使用\n",
    "FewShotChatMessagePromptTemplate: 与ChatPromptTemplate一起使用\n",
    "Example selectors(示例选择器):"
   ],
   "id": "1c127feae0404dc3"
  },
  {
   "metadata": {},
   "cell_type": "markdown",
   "source": "## 1. FewShotPromptTemplate的使用",
   "id": "288e036b36b84f82"
  },
  {
   "metadata": {},
   "cell_type": "markdown",
   "source": "举例1: 未提供示例的情况:",
   "id": "f2a727821bb83123"
  },
  {
   "metadata": {
    "ExecuteTime": {
     "end_time": "2025-09-21T16:20:26.898558Z",
     "start_time": "2025-09-21T16:20:23.121462Z"
    }
   },
   "cell_type": "code",
   "source": [
    "import os\n",
    "\n",
    "import dotenv\n",
    "from langchain_openai import ChatOpenAI\n",
    "\n",
    "\n",
    "# 调用非对话模型:\n",
    "# llms = OpenAI(...)\n",
    "\n",
    "dotenv.load_dotenv() # 加载当前目录下的.env文件\n",
    "\n",
    "os.environ[\"ARK_API_KEY\"] = os.getenv(\"ARK_API_KEY\")\n",
    "os.environ[\"MODEL\"] = os.getenv(\"MODEL\")\n",
    "os.environ[\"BASE_URL\"] = os.getenv(\"BASE_URL\")\n",
    "\n",
    "\n",
    "# 调用对话模型:\n",
    "chat_model =  ChatOpenAI(\n",
    "    model_name=os.environ['MODEL'],\n",
    "    base_url=os.environ['BASE_URL'],\n",
    "    api_key=os.environ['ARK_API_KEY']\n",
    ")\n",
    "\n",
    "response =   chat_model.invoke(\"2 @@@ 9 是多少?\")\n",
    "\n",
    "print(response.content)\n",
    "\n"
   ],
   "id": "d103d862f13775de",
   "outputs": [
    {
     "name": "stdout",
     "output_type": "stream",
     "text": [
      "仅“2 @@@ 9”这样的表述，由于“@@@”不是常见的数学运算符号，不清楚其具体代表的运算规则，所以无法计算出结果。\n",
      "\n",
      "你可以给我解释一下“@@@”所代表的运算含义，这样我就能为你准确计算了。 \n"
     ]
    }
   ],
   "execution_count": 1
  },
  {
   "metadata": {},
   "cell_type": "markdown",
   "source": "举例2: 使用FewShotPromptTemplate",
   "id": "720bc022172e9b1e"
  },
  {
   "metadata": {
    "ExecuteTime": {
     "end_time": "2025-09-21T16:35:53.341028Z",
     "start_time": "2025-09-21T16:35:53.228565Z"
    }
   },
   "cell_type": "code",
   "source": [
    "from langchain_core.prompts import PromptTemplate, FewShotPromptTemplate\n",
    "\n",
    "example_prompt =  PromptTemplate.from_template(\n",
    "    template=\"input:{input}\\noutput:{output}\"\n",
    ")\n",
    "\n",
    "examples = [\n",
    "    {\"input\":\"北京天气怎么样?\",\"output\":\"北京市\"},\n",
    "    {\"input\":\"南京下雨吗?\",\"output\":\"南京市\"},\n",
    "    {\"input\":\"武汉热吗?\",\"output\":\"武汉市\"}\n",
    "]\n",
    "\n",
    "few_shot_template =  FewShotPromptTemplate(\n",
    "    example_prompt=example_prompt,\n",
    "    examples=examples,\n",
    "    suffix=\"input:{input}\\noutput:\",\n",
    "    input_variables=[\"input\"],\n",
    ")\n",
    "\n",
    "few_shot_template.invoke({\"input\":\"天津会下雨吗？\"})"
   ],
   "id": "ae3506f20f697121",
   "outputs": [
    {
     "data": {
      "text/plain": [
       "StringPromptValue(text='input:北京天气怎么样?\\noutput:北京市\\n\\ninput:南京下雨吗?\\noutput:南京市\\n\\ninput:武汉热吗?\\noutput:武汉市\\n\\ninput:天津会下雨吗？\\noutput:')"
      ]
     },
     "execution_count": 2,
     "metadata": {},
     "output_type": "execute_result"
    }
   ],
   "execution_count": 2
  },
  {
   "metadata": {},
   "cell_type": "markdown",
   "source": "调用大模型以后:",
   "id": "e581a0951859e21"
  },
  {
   "metadata": {
    "ExecuteTime": {
     "end_time": "2025-09-21T16:39:11.225017Z",
     "start_time": "2025-09-21T16:39:10.354638Z"
    }
   },
   "cell_type": "code",
   "source": [
    "import os\n",
    "\n",
    "import dotenv\n",
    "from langchain_openai import ChatOpenAI\n",
    "from langchain_core.prompts import PromptTemplate, FewShotPromptTemplate\n",
    "\n",
    "\n",
    "# 调用非对话模型:\n",
    "# llms = OpenAI(...)\n",
    "\n",
    "dotenv.load_dotenv() # 加载当前目录下的.env文件\n",
    "\n",
    "os.environ[\"ARK_API_KEY\"] = os.getenv(\"ARK_API_KEY\")\n",
    "os.environ[\"MODEL\"] = os.getenv(\"MODEL\")\n",
    "os.environ[\"BASE_URL\"] = os.getenv(\"BASE_URL\")\n",
    "\n",
    "\n",
    "# 调用对话模型:\n",
    "chat_model =  ChatOpenAI(\n",
    "    model_name=os.environ['MODEL'],\n",
    "    base_url=os.environ['BASE_URL'],\n",
    "    api_key=os.environ['ARK_API_KEY']\n",
    ")\n",
    "\n",
    "example_prompt =  PromptTemplate.from_template(\n",
    "    template=\"input:{input}\\noutput:{output}\"\n",
    ")\n",
    "\n",
    "examples = [\n",
    "    {\"input\":\"北京天气怎么样?\",\"output\":\"北京市\"},\n",
    "    {\"input\":\"南京下雨吗?\",\"output\":\"南京市\"},\n",
    "    {\"input\":\"武汉热吗?\",\"output\":\"武汉市\"}\n",
    "]\n",
    "\n",
    "few_shot_template =  FewShotPromptTemplate(\n",
    "    example_prompt=example_prompt,\n",
    "    examples=examples,\n",
    "    suffix=\"input:{input}\\noutput:\",\n",
    "    input_variables=[\"input\"],\n",
    ")\n",
    "\n",
    "few_shot_prompt =  few_shot_template.invoke({\"input\":\"天津会下雨吗？\"})\n",
    "\n",
    "response =  chat_model.invoke(few_shot_prompt)\n",
    "print(response.content)\n",
    "\n"
   ],
   "id": "1ac174e17d0cab11",
   "outputs": [
    {
     "name": "stdout",
     "output_type": "stream",
     "text": [
      "天津市\n"
     ]
    }
   ],
   "execution_count": 3
  },
  {
   "metadata": {},
   "cell_type": "markdown",
   "source": "## 示例2:",
   "id": "a44565d33945780"
  },
  {
   "metadata": {
    "ExecuteTime": {
     "end_time": "2025-09-21T16:41:43.105769Z",
     "start_time": "2025-09-21T16:41:42.269779Z"
    }
   },
   "cell_type": "code",
   "source": [
    "import os\n",
    "\n",
    "import dotenv\n",
    "from langchain_openai import ChatOpenAI\n",
    "\n",
    "\n",
    "# 调用非对话模型:\n",
    "# llms = OpenAI(...)\n",
    "\n",
    "dotenv.load_dotenv() # 加载当前目录下的.env文件\n",
    "\n",
    "os.environ[\"ARK_API_KEY\"] = os.getenv(\"ARK_API_KEY\")\n",
    "os.environ[\"MODEL\"] = os.getenv(\"MODEL\")\n",
    "os.environ[\"BASE_URL\"] = os.getenv(\"BASE_URL\")\n",
    "\n",
    "\n",
    "# 调用对话模型:\n",
    "chat_model =  ChatOpenAI(\n",
    "    model_name=os.environ['MODEL'],\n",
    "    base_url=os.environ['BASE_URL'],\n",
    "    api_key=os.environ['ARK_API_KEY']\n",
    ")\n",
    "\n",
    "\n",
    "example_prompt =  PromptTemplate.from_template(\n",
    "    template=\"input:{input}\\noutput:{output}\"\n",
    ")\n",
    "\n",
    "examples = [\n",
    "    {\"input\":\"3 @@@ 3 是多少?\",\"output\":\"0\"},\n",
    "    {\"input\":\"4 @@@ 2 是多少?\",\"output\":\"2\"},\n",
    "    {\"input\":\"2 @@@ 4 是多少?\",\"output\":\"-2\"}\n",
    "]\n",
    "\n",
    "few_shot_template =  FewShotPromptTemplate(\n",
    "    example_prompt=example_prompt,\n",
    "    examples=examples,\n",
    "    suffix=\"input:{input}\\noutput:\",\n",
    "    input_variables=[\"input\"],\n",
    ")\n",
    "\n",
    "few_shot_prompt =  few_shot_template.invoke({\"input\":\"2 @@@ 9是多少?\"})\n",
    "\n",
    "response =   chat_model.invoke(few_shot_prompt)\n",
    "\n",
    "print(response.content)\n",
    "\n"
   ],
   "id": "b044b134228c963a",
   "outputs": [
    {
     "name": "stdout",
     "output_type": "stream",
     "text": [
      "-7\n"
     ]
    }
   ],
   "execution_count": 4
  },
  {
   "metadata": {},
   "cell_type": "markdown",
   "source": "## 示例3:",
   "id": "f1e7278cd1c96e52"
  },
  {
   "metadata": {
    "ExecuteTime": {
     "end_time": "2025-09-21T16:47:46.520734Z",
     "start_time": "2025-09-21T16:47:45.498630Z"
    }
   },
   "cell_type": "code",
   "source": [
    "import os\n",
    "\n",
    "import dotenv\n",
    "from langchain_openai import ChatOpenAI\n",
    "\n",
    "\n",
    "# 调用非对话模型:\n",
    "# llms = OpenAI(...)\n",
    "\n",
    "dotenv.load_dotenv() # 加载当前目录下的.env文件\n",
    "\n",
    "os.environ[\"ARK_API_KEY\"] = os.getenv(\"ARK_API_KEY\")\n",
    "os.environ[\"MODEL\"] = os.getenv(\"MODEL\")\n",
    "os.environ[\"BASE_URL\"] = os.getenv(\"BASE_URL\")\n",
    "\n",
    "\n",
    "# 调用对话模型:\n",
    "chat_model =  ChatOpenAI(\n",
    "    model_name=os.environ['MODEL'],\n",
    "    base_url=os.environ['BASE_URL'],\n",
    "    api_key=os.environ['ARK_API_KEY']\n",
    ")\n",
    "\n",
    "\n",
    "example_prompt =  PromptTemplate.from_template(\n",
    "    template=\"你是一个数学专家,算式: {input} 值: {output} 使用: {description}\"\n",
    ")\n",
    "\n",
    "examples = [\n",
    "    {\"input\":\"2 + 2\",\"output\":\"4\",\"description\":\"加法运算\"},\n",
    "    {\"input\":\"5 - 2\",\"output\":\"3\",\"description\":\"减法运算\"},\n",
    "]\n",
    "\n",
    "few_shot_template =  FewShotPromptTemplate(\n",
    "    example_prompt=example_prompt,\n",
    "    examples=examples,\n",
    "    suffix=\"你是一个数学专家,算式: {input}, 值: {output}\",\n",
    "    input_variables=[\"input\",\"output\"],\n",
    ")\n",
    "\n",
    "\n",
    "\n",
    "response =   chat_model.invoke(few_shot_template.invoke({\"input\":\"2 * 5\",\"output\":\"10\"}))\n",
    "\n",
    "print(response.content)\n",
    "\n"
   ],
   "id": "b8db692a17123280",
   "outputs": [
    {
     "name": "stdout",
     "output_type": "stream",
     "text": [
      "使用: 乘法运算\n"
     ]
    }
   ],
   "execution_count": 5
  }
 ],
 "metadata": {
  "kernelspec": {
   "display_name": "Python 3",
   "language": "python",
   "name": "python3"
  },
  "language_info": {
   "codemirror_mode": {
    "name": "ipython",
    "version": 2
   },
   "file_extension": ".py",
   "mimetype": "text/x-python",
   "name": "python",
   "nbconvert_exporter": "python",
   "pygments_lexer": "ipython2",
   "version": "2.7.6"
  }
 },
 "nbformat": 4,
 "nbformat_minor": 5
}
