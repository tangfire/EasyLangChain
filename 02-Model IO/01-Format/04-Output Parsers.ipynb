{
 "cells": [
  {
   "metadata": {},
   "cell_type": "markdown",
   "source": "# 输出解析器的使用",
   "id": "b463fd05c4fce8bf"
  },
  {
   "metadata": {},
   "cell_type": "markdown",
   "source": "## 1. 字符串输出解析器 StrOutputParser\n",
   "id": "19ddf6490bca904b"
  },
  {
   "metadata": {
    "ExecuteTime": {
     "end_time": "2025-09-25T08:11:33.295613Z",
     "start_time": "2025-09-25T08:11:21.520029Z"
    }
   },
   "cell_type": "code",
   "source": [
    "import os\n",
    "\n",
    "import dotenv\n",
    "from langchain_core.output_parsers import StrOutputParser, JsonOutputParser, XMLOutputParser\n",
    "from langchain_core.prompts import ChatPromptTemplate\n",
    "\n",
    "from langchain_openai import ChatOpenAI\n",
    "\n",
    "# 调用非对话模型:\n",
    "# llms = OpenAI(...)\n",
    "\n",
    "dotenv.load_dotenv() # 加载当前目录下的.env文件\n",
    "\n",
    "os.environ[\"ARK_API_KEY\"] = os.getenv(\"ARK_API_KEY\")\n",
    "os.environ[\"MODEL\"] = os.getenv(\"MODEL\")\n",
    "os.environ[\"BASE_URL\"] = os.getenv(\"BASE_URL\")\n",
    "\n",
    "\n",
    "# 调用对话模型:\n",
    "chat_model =  ChatOpenAI(\n",
    "    model_name=os.environ['MODEL'],\n",
    "    base_url=os.environ['BASE_URL'],\n",
    "    api_key=os.environ['ARK_API_KEY']\n",
    ")\n",
    "\n",
    "response = chat_model.invoke(\"什么是大语言模型？\")\n",
    "\n",
    "print(type(response))\n",
    "\n",
    "# 如何获得一个字符串的输出结果呢？\n",
    "# 方式一: 自己调用输出结果的content\n",
    "print(response.content)\n",
    "\n",
    "\n",
    "print(\"===========================================\")\n",
    "# 方式二: 使用StrOutputParser\n",
    "parser = StrOutputParser()\n",
    "str_response = parser.invoke(response)\n",
    "print(type(str_response))\n",
    "print(str_response)"
   ],
   "id": "9e9e3b75a71223d2",
   "outputs": [
    {
     "name": "stdout",
     "output_type": "stream",
     "text": [
      "<class 'langchain_core.messages.ai.AIMessage'>\n",
      "大语言模型（Large Language Model）是一类基于深度学习技术、具有大量参数的人工智能模型，旨在学习语言的统计规律和语义信息，从而能够处理和生成自然语言文本。以下从技术原理、训练过程、特点、应用场景几个方面为你详细介绍：\n",
      "\n",
      "### 技术原理\n",
      "大语言模型通常基于Transformer架构，这是一种采用自注意力机制（Self-attention mechanism）的深度学习架构，它能够让模型在处理输入序列时，动态地关注序列中不同位置的元素之间的关系，从而捕捉长距离依赖关系，更好地理解语言的上下文信息。\n",
      "\n",
      "### 训练过程\n",
      "- **数据收集**：需要在大规模的文本数据上进行训练，这些数据来源广泛，包括互联网上的各种文本、书籍、新闻文章、社交媒体内容等。\n",
      "- **预训练**：使用无监督学习方法，让模型学习文本中的语言模式和统计规律。最常见的任务是掩码语言模型（Masked Language Model，MLM）和下一句预测（Next Sentence Prediction，NSP）等。\n",
      "- **微调**：在预训练的基础上，使用特定领域的有标签数据对模型进行微调，以适应具体的任务，如问答系统、文本生成、机器翻译等。\n",
      "\n",
      "### 特点\n",
      "- **大规模参数**：大语言模型包含数十亿甚至数万亿个参数。更多的参数使得模型能够学习到更复杂、更丰富的语言模式和知识，从而在各种语言任务中表现出更好的性能。\n",
      "- **强大的语言理解和生成能力**：能够理解输入文本的语义和上下文信息，并根据这些信息生成连贯、有逻辑的文本输出。可以完成多种自然语言处理任务，如文本摘要、对话生成、知识问答等。\n",
      "- **泛化能力强**：经过大规模数据的训练，大语言模型具有较强的泛化能力，能够处理各种领域和主题的文本，适应不同的任务需求。\n",
      "\n",
      "### 应用场景\n",
      "- **智能客服**：可以自动回答用户的问题，提供常见问题的解决方案，提高客户服务效率。\n",
      "- **内容创作**：帮助撰写文章、故事、诗歌等，为创作者提供灵感和辅助。\n",
      "- **机器翻译**：实现不同语言之间的自动翻译，促进跨语言的交流和沟通。\n",
      "- **智能写作辅助**：检查语法错误、提供词汇建议、优化句子结构等，提升写作质量。\n",
      "===========================================\n",
      "<class 'str'>\n",
      "大语言模型（Large Language Model）是一类基于深度学习技术、具有大量参数的人工智能模型，旨在学习语言的统计规律和语义信息，从而能够处理和生成自然语言文本。以下从技术原理、训练过程、特点、应用场景几个方面为你详细介绍：\n",
      "\n",
      "### 技术原理\n",
      "大语言模型通常基于Transformer架构，这是一种采用自注意力机制（Self-attention mechanism）的深度学习架构，它能够让模型在处理输入序列时，动态地关注序列中不同位置的元素之间的关系，从而捕捉长距离依赖关系，更好地理解语言的上下文信息。\n",
      "\n",
      "### 训练过程\n",
      "- **数据收集**：需要在大规模的文本数据上进行训练，这些数据来源广泛，包括互联网上的各种文本、书籍、新闻文章、社交媒体内容等。\n",
      "- **预训练**：使用无监督学习方法，让模型学习文本中的语言模式和统计规律。最常见的任务是掩码语言模型（Masked Language Model，MLM）和下一句预测（Next Sentence Prediction，NSP）等。\n",
      "- **微调**：在预训练的基础上，使用特定领域的有标签数据对模型进行微调，以适应具体的任务，如问答系统、文本生成、机器翻译等。\n",
      "\n",
      "### 特点\n",
      "- **大规模参数**：大语言模型包含数十亿甚至数万亿个参数。更多的参数使得模型能够学习到更复杂、更丰富的语言模式和知识，从而在各种语言任务中表现出更好的性能。\n",
      "- **强大的语言理解和生成能力**：能够理解输入文本的语义和上下文信息，并根据这些信息生成连贯、有逻辑的文本输出。可以完成多种自然语言处理任务，如文本摘要、对话生成、知识问答等。\n",
      "- **泛化能力强**：经过大规模数据的训练，大语言模型具有较强的泛化能力，能够处理各种领域和主题的文本，适应不同的任务需求。\n",
      "\n",
      "### 应用场景\n",
      "- **智能客服**：可以自动回答用户的问题，提供常见问题的解决方案，提高客户服务效率。\n",
      "- **内容创作**：帮助撰写文章、故事、诗歌等，为创作者提供灵感和辅助。\n",
      "- **机器翻译**：实现不同语言之间的自动翻译，促进跨语言的交流和沟通。\n",
      "- **智能写作辅助**：检查语法错误、提供词汇建议、优化句子结构等，提升写作质量。\n"
     ]
    }
   ],
   "execution_count": 2
  },
  {
   "metadata": {},
   "cell_type": "markdown",
   "source": "## 2. JSON解析器 JsonOutputParser",
   "id": "c59eceff43bf7fc2"
  },
  {
   "metadata": {},
   "cell_type": "markdown",
   "source": "### 方式一:",
   "id": "bb21635574e6d2dd"
  },
  {
   "metadata": {
    "ExecuteTime": {
     "end_time": "2025-09-25T08:23:21.236277Z",
     "start_time": "2025-09-25T08:23:19.639202Z"
    }
   },
   "cell_type": "code",
   "source": [
    "import os\n",
    "import dotenv\n",
    "from langchain_openai import ChatOpenAI\n",
    "from langchain_core. prompts. chat import ChatPromptTemplate\n",
    "from langchain_core. output_parsers. json import JsonOutputParser\n",
    "\n",
    "dotenv.load_dotenv() # 加载当前目录下的.env文件\n",
    "\n",
    "# 调用对话模型:\n",
    "chat_model =  ChatOpenAI(\n",
    "    model_name=os.getenv('MODEL'),\n",
    "    base_url=os.getenv('BASE_URL'),\n",
    "    api_key=os.getenv('ARK_API_KEY'),\n",
    ")\n",
    "\n",
    "chat_prompt_template = ChatPromptTemplate.from_messages([(\"system\", \"你是一个靠谱的{role}\"), (\"human\", \"{question}\")])\n",
    "\n",
    "prompt = chat_prompt_template.invoke(\n",
    "    input={\"role\": \"人工智能专家\", \"question\": \"人工智能用英文怎么说?问题用q表示,答案用a表示，返回一个JSON格式的数据\"})\n",
    "\n",
    "response = chat_model.invoke(prompt)\n",
    "\n",
    "parser = JsonOutputParser()\n",
    "json_result = parser.invoke(response)\n",
    "print(json_result)\n"
   ],
   "id": "c51cd78a6188ca34",
   "outputs": [
    {
     "name": "stdout",
     "output_type": "stream",
     "text": [
      "{'q': '人工智能用英文怎么说?', 'a': 'Artificial Intelligence，缩写为AI'}\n"
     ]
    }
   ],
   "execution_count": 5
  },
  {
   "metadata": {
    "ExecuteTime": {
     "end_time": "2025-09-25T09:07:33.543213Z",
     "start_time": "2025-09-25T09:07:31.695417Z"
    }
   },
   "cell_type": "code",
   "source": [
    "import os\n",
    "import dotenv\n",
    "from langchain_openai import ChatOpenAI\n",
    "from langchain_core. prompts. chat import ChatPromptTemplate\n",
    "from langchain_core. output_parsers. json import JsonOutputParser\n",
    "\n",
    "dotenv.load_dotenv() # 加载当前目录下的.env文件\n",
    "\n",
    "# 调用对话模型:\n",
    "chat_model =  ChatOpenAI(\n",
    "    model_name=os.getenv('MODEL'),\n",
    "    base_url=os.getenv('BASE_URL'),\n",
    "    api_key=os.getenv('ARK_API_KEY'),\n",
    ")\n",
    "\n",
    "chat_prompt_template = ChatPromptTemplate.from_messages([(\"system\", \"你是一个靠谱的{role}\"), (\"human\", \"{question}\")])\n",
    "\n",
    "parser = JsonOutputParser()\n",
    "\n",
    "chain = chat_prompt_template | chat_model | parser\n",
    "\n",
    "json_result = chain.invoke(input={\"role\": \"人工智能专家\", \"question\": \"人工智能用英文怎么说?问题用q表示,答案用a表示，返回一个JSON格式的数据\"})\n",
    "print(json_result)\n"
   ],
   "id": "96c8793af37f42cd",
   "outputs": [
    {
     "name": "stdout",
     "output_type": "stream",
     "text": [
      "{'q': '人工智能用英文怎么说', 'a': '人工智能常见的英文表达是Artificial Intelligence，缩写为AI。'}\n"
     ]
    }
   ],
   "execution_count": 7
  },
  {
   "metadata": {},
   "cell_type": "markdown",
   "source": "方式二:",
   "id": "235faca7ef4b5ad5"
  },
  {
   "metadata": {
    "ExecuteTime": {
     "end_time": "2025-09-25T09:02:14.254655Z",
     "start_time": "2025-09-25T09:02:10.267315Z"
    }
   },
   "cell_type": "code",
   "source": [
    "from langchain_core.prompts import PromptTemplate\n",
    "import os\n",
    "import dotenv\n",
    "from langchain_openai import ChatOpenAI\n",
    "from langchain_core. prompts. chat import ChatPromptTemplate\n",
    "from langchain_core. output_parsers. json import JsonOutputParser\n",
    "\n",
    "dotenv.load_dotenv() # 加载当前目录下的.env文件\n",
    "\n",
    "# 调用对话模型:\n",
    "chat_model =  ChatOpenAI(\n",
    "    model_name=os.getenv('MODEL'),\n",
    "    base_url=os.getenv('BASE_URL'),\n",
    "    api_key=os.getenv('ARK_API_KEY'),\n",
    ")\n",
    "\n",
    "joke_query = \"请告诉我一个笑话\"\n",
    "\n",
    "\n",
    "response = chat_model.invoke(prompt)\n",
    "\n",
    "parser = JsonOutputParser()\n",
    "\n",
    "prompt_template = PromptTemplate.from_template(\n",
    "    template=\"回答用户的查询\\n 满足的格式为{format_instructions}\\n 问题为{question}\\n\",\n",
    "    partial_variables={\"format_instructions\": parser.get_format_instructions()}, )\n",
    "\n",
    "prompt = prompt_template.invoke(input={\"question\":joke_query})\n",
    "response = chat_model.invoke(prompt)\n",
    "json_result =  parser.invoke(response)\n",
    "print(json_result)\n",
    "\n"
   ],
   "id": "1692cda80b4d90c8",
   "outputs": [
    {
     "name": "stdout",
     "output_type": "stream",
     "text": [
      "{'joke': '小蚂蚁迷路找不到蚁窝，可着急了，恰好看到它的朋友经过，于是冲过去大喊一声：“哥们儿！你…你都如何回蚁窝（回忆我）？”那朋友一愣，然后反问道：“带……带……带着笑或是很沉默？”'}\n"
     ]
    }
   ],
   "execution_count": 6
  },
  {
   "metadata": {
    "ExecuteTime": {
     "end_time": "2025-09-25T09:09:03.101156Z",
     "start_time": "2025-09-25T09:08:58.415399Z"
    }
   },
   "cell_type": "code",
   "source": [
    "from langchain_core.prompts import PromptTemplate\n",
    "import os\n",
    "import dotenv\n",
    "from langchain_openai import ChatOpenAI\n",
    "from langchain_core. prompts. chat import ChatPromptTemplate\n",
    "from langchain_core. output_parsers. json import JsonOutputParser\n",
    "\n",
    "dotenv.load_dotenv() # 加载当前目录下的.env文件\n",
    "\n",
    "# 调用对话模型:\n",
    "chat_model =  ChatOpenAI(\n",
    "    model_name=os.getenv('MODEL'),\n",
    "    base_url=os.getenv('BASE_URL'),\n",
    "    api_key=os.getenv('ARK_API_KEY'),\n",
    ")\n",
    "\n",
    "joke_query = \"请告诉我一个笑话\"\n",
    "\n",
    "\n",
    "response = chat_model.invoke(prompt)\n",
    "\n",
    "parser = JsonOutputParser()\n",
    "\n",
    "prompt_template = PromptTemplate.from_template(\n",
    "    template=\"回答用户的查询\\n 满足的格式为{format_instructions}\\n 问题为{question}\\n\",\n",
    "    partial_variables={\"format_instructions\": parser.get_format_instructions()}, )\n",
    "\n",
    "chain = prompt_template | chat_model | parser\n",
    "\n",
    "json_result = chain.invoke(input={\"question\":joke_query})\n",
    "\n",
    "print(json_result)\n",
    "\n"
   ],
   "id": "c97fd6e648fe025b",
   "outputs": [
    {
     "name": "stdout",
     "output_type": "stream",
     "text": [
      "{'joke': '小蚂蚁迷路找不到蚁窝，可着急了，恰好看到它的朋友经过，于是冲过去大喊一声：“哥们儿！你…你都如何回蚁窝（回忆我）？”那朋友一愣，然后反问道：“带……带……带着笑或是很沉默？”'}\n"
     ]
    }
   ],
   "execution_count": 8
  },
  {
   "metadata": {},
   "cell_type": "markdown",
   "source": "## 3. XML解析器 XMLOutputParser",
   "id": "2c5a5b39ec5b029c"
  },
  {
   "metadata": {},
   "cell_type": "markdown",
   "source": "### 示例1:",
   "id": "66b254fb3524da05"
  },
  {
   "metadata": {
    "ExecuteTime": {
     "end_time": "2025-09-25T09:18:34.172087Z",
     "start_time": "2025-09-25T09:18:30.794794Z"
    }
   },
   "cell_type": "code",
   "source": [
    "import os\n",
    "import dotenv\n",
    "\n",
    "dotenv.load_dotenv()\n",
    "\n",
    "chat_model = ChatOpenAI(\n",
    "    model_name=os.getenv('MODEL'),\n",
    "    base_url=os.getenv('BASE_URL'),\n",
    "    api_key=os.getenv('ARK_API_KEY'),\n",
    ")\n",
    "\n",
    "actor_query = \"周星驰的简短电影记录\"\n",
    "response = chat_model.invoke(f\"请生成{actor_query},将影片附在<movie></movie>标签中,以xml的格式输出\")\n",
    "\n",
    "print(type(response))\n",
    "print(response.content)\n"
   ],
   "id": "9abf9f817a7b5047",
   "outputs": [
    {
     "name": "stdout",
     "output_type": "stream",
     "text": [
      "<class 'langchain_core.messages.ai.AIMessage'>\n",
      "<?xml version=\"1.0\" encoding=\"UTF-8\"?>\n",
      "<star_movies>\n",
      "    <star>周星驰</star>\n",
      "    <movie_record>周星驰是华语影坛极具影响力的演员、导演。他的电影风格独特，以无厘头喜剧著称，为观众带来众多经典作品。</movie_record>\n",
      "    <movie>《大话西游之月光宝盒》</movie>\n",
      "    <movie>《大话西游之大圣娶亲》</movie>\n",
      "    <movie>《喜剧之王》</movie>\n",
      "    <movie>《少林足球》</movie>\n",
      "    <movie>《功夫》</movie>\n",
      "</star_movies>\n"
     ]
    }
   ],
   "execution_count": 10
  },
  {
   "metadata": {},
   "cell_type": "markdown",
   "source": "### 举例2:",
   "id": "f74c94ba6acff29d"
  },
  {
   "metadata": {
    "ExecuteTime": {
     "end_time": "2025-09-25T09:20:27.764899Z",
     "start_time": "2025-09-25T09:20:27.743104Z"
    }
   },
   "cell_type": "code",
   "source": [
    "from langchain_core. output_parsers. xml import XMLOutputParser\n",
    "\n",
    "parser = XMLOutputParser()\n",
    "print(parser.get_format_instructions())"
   ],
   "id": "4eb0ec22c53028dc",
   "outputs": [
    {
     "name": "stdout",
     "output_type": "stream",
     "text": [
      "The output should be formatted as a XML file.\n",
      "1. Output should conform to the tags below.\n",
      "2. If tags are not given, make them on your own.\n",
      "3. Remember to always open and close all the tags.\n",
      "\n",
      "As an example, for the tags [\"foo\", \"bar\", \"baz\"]:\n",
      "1. String \"<foo>\n",
      "   <bar>\n",
      "      <baz></baz>\n",
      "   </bar>\n",
      "</foo>\" is a well-formatted instance of the schema.\n",
      "2. String \"<foo>\n",
      "   <bar>\n",
      "   </foo>\" is a badly-formatted instance.\n",
      "3. String \"<foo>\n",
      "   <tag>\n",
      "   </tag>\n",
      "</foo>\" is a badly-formatted instance.\n",
      "\n",
      "Here are the output tags:\n",
      "```\n",
      "None\n",
      "```\n"
     ]
    }
   ],
   "execution_count": 12
  },
  {
   "metadata": {},
   "cell_type": "markdown",
   "source": "使用parser.get_format_instructions()结构实现:",
   "id": "28fc1ec704a55376"
  },
  {
   "metadata": {
    "ExecuteTime": {
     "end_time": "2025-09-25T11:17:43.953976Z",
     "start_time": "2025-09-25T11:17:39.597947Z"
    }
   },
   "cell_type": "code",
   "source": [
    "import os\n",
    "import dotenv\n",
    "\n",
    "dotenv.load_dotenv()\n",
    "\n",
    "chat_model =  ChatOpenAI(\n",
    "    model_name=os.getenv('MODEL'),\n",
    "    base_url=os.getenv('BASE_URL'),\n",
    "    api_key=os.getenv('ARK_API_KEY'),\n",
    ")\n",
    "\n",
    "actor_query = \"生成汤姆·汉克斯的简短电影记录，使用中文回复\"\n",
    "\n",
    "parser = XMLOutputParser()\n",
    "\n",
    "prompt_template1 =  PromptTemplate.from_template(\n",
    "    template=\"用户的问题:{query}\\n使用的格式:{format_instructions}\",\n",
    ")\n",
    "\n",
    "prompt_template2 = prompt_template1.partial(format_instructions=parser.get_format_instructions())\n",
    "\n",
    "response =  chat_model.invoke(prompt_template2.invoke(input={\"query\":actor_query}))\n",
    "\n",
    "# print(response.content)\n",
    "\n",
    "xml_result = parser.invoke(response)\n",
    "print(xml_result)\n"
   ],
   "id": "2f6a7df65febec15",
   "outputs": [
    {
     "name": "stdout",
     "output_type": "stream",
     "text": [
      "{'电影记录': [{'演员': '汤姆·汉克斯'}, {'代表作列表': [{'代表作': [{'影片名': '《阿甘正传》'}, {'上映年份': '1994年'}, {'简介': '影片讲述了智商不高的阿甘的励志人生，汤姆·汉克斯凭借此片获奥斯卡最佳男主角奖。'}]}, {'代表作': [{'影片名': '《拯救大兵瑞恩》'}, {'上映年份': '1998年'}, {'简介': '以诺曼底登陆为背景，讲述了一支小分队拯救大兵瑞恩的故事，汉克斯的表演极具感染力。'}]}, {'代表作': [{'影片名': '《荒岛余生》'}, {'上映年份': '2000年'}, {'简介': '他饰演的查克因飞机失事被困荒岛，演绎了在孤岛上的生存奋斗。'}]}]}]}\n"
     ]
    }
   ],
   "execution_count": 15
  }
 ],
 "metadata": {
  "kernelspec": {
   "display_name": "Python 3",
   "language": "python",
   "name": "python3"
  },
  "language_info": {
   "codemirror_mode": {
    "name": "ipython",
    "version": 2
   },
   "file_extension": ".py",
   "mimetype": "text/x-python",
   "name": "python",
   "nbconvert_exporter": "python",
   "pygments_lexer": "ipython2",
   "version": "2.7.6"
  }
 },
 "nbformat": 4,
 "nbformat_minor": 5
}
