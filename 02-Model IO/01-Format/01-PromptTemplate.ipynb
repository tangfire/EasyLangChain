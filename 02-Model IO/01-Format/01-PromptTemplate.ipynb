{
 "cells": [
  {
   "metadata": {},
   "cell_type": "markdown",
   "source": [
    "# 1. PromptTemplate如何获取实例\n",
    "方式1: 使用构造方法的方式"
   ],
   "id": "6284b98846cd1eb3"
  },
  {
   "metadata": {
    "ExecuteTime": {
     "end_time": "2025-09-21T06:58:01.428419Z",
     "start_time": "2025-09-21T06:58:01.410806Z"
    }
   },
   "cell_type": "code",
   "source": [
    "from pydoc_data.topics import topics\n",
    "\n",
    "from langchain.chains.qa_with_sources.stuff_prompt \n",
    "from langchain_core.prompts import PromptTemplate\n",
    "\n",
    "prompt_template = PromptTemplate(\n",
    "    template=\"你是一个{role},你的名字叫{name}\",\n",
    "    input_variables=[\"role\", \"name\"],\n",
    ")\n",
    "\n",
    "# print(prompt_template)\n",
    "\n",
    "prompt = prompt_template.format(role=\"人工智能专家\", name=\"小智\")\n",
    "\n",
    "print(prompt)"
   ],
   "id": "444e4e3432eb6629",
   "outputs": [
    {
     "name": "stdout",
     "output_type": "stream",
     "text": [
      "你是一个人工智能专家,你的名字叫小智\n"
     ]
    }
   ],
   "execution_count": 3
  },
  {
   "metadata": {
    "ExecuteTime": {
     "end_time": "2025-09-21T07:01:26.307320Z",
     "start_time": "2025-09-21T07:01:26.292228Z"
    }
   },
   "cell_type": "code",
   "source": [
    "template1 = PromptTemplate(template=\"请评价{product}的优缺点，包括{aspect1}和{aspect2}\", input_variables=[\"product\", \"aspect1\", \"aspect2\"])\n",
    "\n",
    "prompt_1 = template1.format(product=\"智能手机\", aspect1=\"电池续航\", aspect2=\"拍照质量\")\n",
    "prompt_2 = template1.format(product=\"笔记本电脑\", aspect1=\"处理速度\", aspect2=\"便携性\")\n",
    "\n",
    "print(prompt_1)\n",
    "print(prompt_2)"
   ],
   "id": "8cbd656f3958efea",
   "outputs": [
    {
     "name": "stdout",
     "output_type": "stream",
     "text": [
      "请评价智能手机的优缺点，包括电池续航和拍照质量\n",
      "请评价笔记本电脑的优缺点，包括处理速度和便携性\n"
     ]
    }
   ],
   "execution_count": 4
  },
  {
   "metadata": {},
   "cell_type": "markdown",
   "source": "方式2: from_template(): 推荐",
   "id": "65ce47ab85ea9532"
  },
  {
   "metadata": {
    "ExecuteTime": {
     "end_time": "2025-09-21T07:04:04.647197Z",
     "start_time": "2025-09-21T07:04:04.631071Z"
    }
   },
   "cell_type": "code",
   "source": [
    "from langchain_core.prompts import PromptTemplate\n",
    "\n",
    "prompt_template = PromptTemplate.from_template(template=\"你是一个{role},你的名字叫{name}\")\n",
    "\n",
    "# print(prompt_template)\n",
    "\n",
    "prompt = prompt_template.format(role=\"人工智能专家\", name=\"小智\")\n",
    "\n",
    "print(prompt)"
   ],
   "id": "5bc880e75efe4c13",
   "outputs": [
    {
     "name": "stdout",
     "output_type": "stream",
     "text": [
      "你是一个人工智能专家,你的名字叫小智\n"
     ]
    }
   ],
   "execution_count": 5
  },
  {
   "metadata": {
    "ExecuteTime": {
     "end_time": "2025-09-21T07:04:39.424700Z",
     "start_time": "2025-09-21T07:04:39.410161Z"
    }
   },
   "cell_type": "code",
   "source": [
    "template1 = PromptTemplate.from_template(template=\"请评价{product}的优缺点，包括{aspect1}和{aspect2}\")\n",
    "\n",
    "prompt_1 = template1.format(product=\"智能手机\", aspect1=\"电池续航\", aspect2=\"拍照质量\")\n",
    "prompt_2 = template1.format(product=\"笔记本电脑\", aspect1=\"处理速度\", aspect2=\"便携性\")\n",
    "\n",
    "print(prompt_1)\n",
    "print(prompt_2)"
   ],
   "id": "f99d49a7a32f3f5b",
   "outputs": [
    {
     "name": "stdout",
     "output_type": "stream",
     "text": [
      "请评价智能手机的优缺点，包括电池续航和拍照质量\n",
      "请评价笔记本电脑的优缺点，包括处理速度和便携性\n"
     ]
    }
   ],
   "execution_count": 6
  },
  {
   "metadata": {},
   "cell_type": "markdown",
   "source": "如果提示词模版中不包含变量,则调用format()时,不需要传入参数",
   "id": "11dda92951a094d0"
  },
  {
   "metadata": {
    "ExecuteTime": {
     "end_time": "2025-09-21T07:09:40.539470Z",
     "start_time": "2025-09-21T07:09:40.530695Z"
    }
   },
   "cell_type": "code",
   "source": [
    "text = \"\"\"\n",
    "Tell me a joke\n",
    "\"\"\"\n",
    "\n",
    "prompt_template =  PromptTemplate.from_template(text)\n",
    "\n",
    "prompt = prompt_template.format()\n",
    "print(prompt)"
   ],
   "id": "a3685244c324b724",
   "outputs": [
    {
     "name": "stdout",
     "output_type": "stream",
     "text": [
      "\n",
      "Tell me joke\n",
      "\n"
     ]
    }
   ],
   "execution_count": 7
  },
  {
   "metadata": {},
   "cell_type": "markdown",
   "source": "# 2. 两种特殊结构的使用(部分提示词模版的使用,组合提示词的使用)",
   "id": "86130d2fcc5e0498"
  },
  {
   "metadata": {},
   "cell_type": "markdown",
   "source": "## 2.1 部分提示词模版的使用(重点)",
   "id": "1e034f7e20d8e4ba"
  },
  {
   "metadata": {
    "ExecuteTime": {
     "end_time": "2025-09-21T07:17:48.618633Z",
     "start_time": "2025-09-21T07:17:48.610909Z"
    }
   },
   "cell_type": "code",
   "source": [
    "template1 = PromptTemplate.from_template(template=\"请评价{product}的优缺点，包括{aspect1}和{aspect2}\",partial_variables={\"aspect1\":\"电池续航\"})\n",
    "\n",
    "prompt_1 = template1.format(product=\"智能手机\",  aspect2=\"拍照质量\")\n",
    "\n",
    "print(prompt_1)\n"
   ],
   "id": "7daa00fc535b0fe8",
   "outputs": [
    {
     "name": "stdout",
     "output_type": "stream",
     "text": [
      "请评价智能手机的优缺点，包括电池续航和拍照质量\n"
     ]
    }
   ],
   "execution_count": 11
  },
  {
   "metadata": {
    "ExecuteTime": {
     "end_time": "2025-09-21T07:19:27.924950Z",
     "start_time": "2025-09-21T07:19:27.908383Z"
    }
   },
   "cell_type": "code",
   "source": [
    "template1 = PromptTemplate(template=\"请评价{product}的优缺点，包括{aspect1}和{aspect2}\", input_variables=[\"product\", \"aspect1\", \"aspect2\"],partial_variables={\"aspect1\":\"电池续航\"})\n",
    "\n",
    "prompt_1 = template1.format(product=\"智能手机\", aspect2=\"拍照质量\")\n",
    "\n",
    "\n",
    "print(prompt_1)\n"
   ],
   "id": "20310e759b64f7f6",
   "outputs": [
    {
     "name": "stdout",
     "output_type": "stream",
     "text": [
      "请评价智能手机的优缺点，包括电池续航和拍照质量\n"
     ]
    }
   ],
   "execution_count": 14
  },
  {
   "metadata": {},
   "cell_type": "markdown",
   "source": "方式2: 调用方法partial()",
   "id": "daaa632cae39f77f"
  },
  {
   "metadata": {
    "ExecuteTime": {
     "end_time": "2025-09-21T07:22:23.978385Z",
     "start_time": "2025-09-21T07:22:23.963743Z"
    }
   },
   "cell_type": "code",
   "source": [
    "template1 = PromptTemplate.from_template(template=\"请评价{product}的优缺点，包括{aspect1}和{aspect2}\")\n",
    "\n",
    "template1 = template1.partial(aspect1=\"电池续航\", aspect2=\"拍照质量\")\n",
    "\n",
    "prompt_1 = template1.format(product=\"智能手机\")\n",
    "\n",
    "print(prompt_1)\n"
   ],
   "id": "123cd35284296ded",
   "outputs": [
    {
     "name": "stdout",
     "output_type": "stream",
     "text": [
      "请评价智能手机的优缺点，包括电池续航和拍照质量\n"
     ]
    }
   ],
   "execution_count": 17
  },
  {
   "metadata": {
    "ExecuteTime": {
     "end_time": "2025-09-21T07:24:29.143914Z",
     "start_time": "2025-09-21T07:24:29.129059Z"
    }
   },
   "cell_type": "code",
   "source": [
    "template1 = PromptTemplate.from_template(template=\"请评价{product}的优缺点，包括{aspect1}和{aspect2}\").partial(aspect1=\"电池续航\", aspect2=\"拍照质量\")\n",
    "\n",
    "\n",
    "\n",
    "prompt_1 = template1.format(product=\"智能手机\")\n",
    "\n",
    "print(prompt_1)\n"
   ],
   "id": "ef9cf019cf00f16c",
   "outputs": [
    {
     "name": "stdout",
     "output_type": "stream",
     "text": [
      "请评价智能手机的优缺点，包括电池续航和拍照质量\n"
     ]
    }
   ],
   "execution_count": 18
  },
  {
   "metadata": {},
   "cell_type": "markdown",
   "source": "## 2.2 组合提示词的使用(了解)",
   "id": "8f8ea0b89c56126a"
  },
  {
   "metadata": {
    "ExecuteTime": {
     "end_time": "2025-09-21T07:30:08.669938Z",
     "start_time": "2025-09-21T07:30:08.659695Z"
    }
   },
   "cell_type": "code",
   "source": [
    "template = (\n",
    "    PromptTemplate.from_template(\"Tell me a joke about {topic}\") + \", make it funny\" + \"\\n\\nand in {language}\"\n",
    ")\n",
    "\n",
    "prompt =  template.format(topic=\"sports\",language=\"English\")\n",
    "print(prompt)"
   ],
   "id": "39b327985ec6933",
   "outputs": [
    {
     "name": "stdout",
     "output_type": "stream",
     "text": [
      "Tell me a joke about sports, make it funny\n",
      "\n",
      "and in English\n"
     ]
    }
   ],
   "execution_count": 20
  },
  {
   "metadata": {},
   "cell_type": "markdown",
   "source": "# 3. 给变量赋值的两种方式: format() / invoke()",
   "id": "74b5a1c3cfe993ed"
  },
  {
   "metadata": {
    "ExecuteTime": {
     "end_time": "2025-09-21T07:32:28.868954Z",
     "start_time": "2025-09-21T07:32:28.859909Z"
    }
   },
   "cell_type": "code",
   "source": [
    "from langchain_core.prompts import PromptTemplate\n",
    "\n",
    "prompt_template = PromptTemplate.from_template(template=\"你是一个{role},你的名字叫{name}\")\n",
    "\n",
    "# print(prompt_template)\n",
    "\n",
    "prompt = prompt_template.format(role=\"人工智能专家\", name=\"小智\")\n",
    "\n",
    "print(prompt)\n",
    "print(type(prompt))"
   ],
   "id": "371d6bd6a8d7769",
   "outputs": [
    {
     "name": "stdout",
     "output_type": "stream",
     "text": [
      "你是一个人工智能专家,你的名字叫小智\n",
      "<class 'str'>\n"
     ]
    }
   ],
   "execution_count": 21
  },
  {
   "metadata": {
    "ExecuteTime": {
     "end_time": "2025-09-21T07:33:22.839263Z",
     "start_time": "2025-09-21T07:33:22.818701Z"
    }
   },
   "cell_type": "code",
   "source": [
    "from langchain_core.prompts import PromptTemplate\n",
    "\n",
    "prompt_template = PromptTemplate.from_template(template=\"你是一个{role},你的名字叫{name}\")\n",
    "\n",
    "# print(prompt_template)\n",
    "\n",
    "prompt = prompt_template.invoke(input={\"role\":\"人工智能专家\",\"name\":\"阿龙\"})\n",
    "\n",
    "print(prompt)\n",
    "print(type(prompt))"
   ],
   "id": "f86b4abaf93e95cf",
   "outputs": [
    {
     "name": "stdout",
     "output_type": "stream",
     "text": [
      "text='你是一个人工智能专家,你的名字叫阿龙'\n",
      "<class 'langchain_core.prompt_values.StringPromptValue'>\n"
     ]
    }
   ],
   "execution_count": 22
  },
  {
   "metadata": {},
   "cell_type": "markdown",
   "source": "# 4. 结合大模型的使用",
   "id": "cdb1cbfa1227fb53"
  },
  {
   "metadata": {
    "ExecuteTime": {
     "end_time": "2025-09-21T07:43:16.261925Z",
     "start_time": "2025-09-21T07:43:00.910516Z"
    }
   },
   "cell_type": "code",
   "source": [
    "import os\n",
    "\n",
    "import dotenv\n",
    "from langchain_openai import ChatOpenAI\n",
    "\n",
    "\n",
    "# 调用非对话模型:\n",
    "# llms = OpenAI(...)\n",
    "\n",
    "dotenv.load_dotenv() # 加载当前目录下的.env文件\n",
    "\n",
    "os.environ[\"ARK_API_KEY\"] = os.getenv(\"ARK_API_KEY\")\n",
    "os.environ[\"MODEL\"] = os.getenv(\"MODEL\")\n",
    "os.environ[\"BASE_URL\"] = os.getenv(\"BASE_URL\")\n",
    "\n",
    "\n",
    "# 调用对话模型:\n",
    "chat_model =  ChatOpenAI(\n",
    "    model_name=os.environ['MODEL'],\n",
    "    base_url=os.environ['BASE_URL'],\n",
    "    api_key=os.environ['ARK_API_KEY'],\n",
    "    temperature=0.7,\n",
    "    max_tokens=20,\n",
    ")\n",
    "\n",
    "template1 = PromptTemplate.from_template(template=\"请评价{product}的优缺点，包括{aspect1}和{aspect2}\",partial_variables={\"aspect1\":\"电池续航\"})\n",
    "\n",
    "# prompt_1 = template1.format(product=\"智能手机\",  aspect2=\"拍照质量\")\n",
    "\n",
    "prompt_1 = template1.invoke(input={\"product\":\"智能手机\",\"aspect2\":\"拍照质量\"})\n",
    "\n",
    "\n",
    "response =   chat_model.invoke(prompt_1)\n",
    "\n",
    "print(response.content)\n",
    "\n"
   ],
   "id": "fc84ad09ba01f4fe",
   "outputs": [
    {
     "name": "stdout",
     "output_type": "stream",
     "text": [
      "智能手机已经成为人们生活中不可或缺的一部分，它有诸多优点，但也存在一些缺点，以下是关于其优缺点以及电池续航和拍照质量方面的详细分析：\n",
      "\n",
      "### 优点\n",
      "#### 功能集成度高\n",
      "- 智能手机整合了电话、短信、上网、娱乐、办公等多种功能。用户可以通过一个设备满足多种需求，无需携带多个设备。例如，在外出旅行时，使用手机既能导航规划路线，又能预订酒店和机票，还能随时拍照记录风景，极大地提高了生活效率。\n",
      "#### 通信便捷\n",
      "- 支持多种通信方式，除了传统的语音通话和短信，还能通过即时通讯软件进行文字、语音、视频聊天。无论距离多远，都能与他人保持实时联系。比如，在疫情期间，人们通过视频通话与远方的亲人朋友保持密切沟通，缓解了不能见面的遗憾。\n",
      "#### 娱乐性强\n",
      "- 提供丰富的娱乐内容，如游戏、音乐、视频等。用户可以在闲暇时间随时享受娱乐。例如，在乘坐地铁时，可以通过手机玩游戏、听音乐来打发时间，让旅途不再枯燥。\n",
      "#### 学习资源丰富\n",
      "- 拥有海量的学习资源，用户可以通过各种学习类应用程序学习知识、提升技能。例如，通过在线课程平台可以学习外语、编程等各种课程，随时随地进行自我提升。\n",
      "#### 拍照功能强大\n",
      "- 随着技术的发展，智能手机的拍照质量越来越高，能够满足大多数日常拍照需求。许多手机配备了高像素摄像头、光学防抖、大光圈等技术，拍摄出的照片清晰度高、色彩还原准确。例如，华为、苹果等品牌的旗舰机型，其拍照效果可以与一些入门级数码相机相媲美，方便用户记录生活中的美好瞬间。\n",
      "\n",
      "### 缺点\n",
      "#### 电池续航问题\n",
      "- 智能手机功能强大，但电池续航能力往往难以满足用户的长时间使用需求。高分辨率屏幕、高性能处理器、5G网络等都会消耗大量电量，导致手机需要频繁充电。例如，一些用户在长时间玩游戏、观看视频后，手机电量可能会迅速下降，甚至无法支持一整天的正常使用。\n",
      "#### 隐私和安全风险\n",
      "- 智能手机存储了大量的个人信息，如联系人、短信、照片、银行账号等，一旦手机丢失或被黑客攻击，这些信息可能会被泄露，给用户带来安全隐患。例如，一些恶意软件可能会窃取用户的个人信息，用于诈骗等违法活动。\n",
      "#### 依赖成瘾\n",
      "- 过度使用智能手机容易导致用户产生依赖心理，影响正常的生活和工作。一些人在吃饭、走路、睡觉前都离不开手机，甚至会影响到与他人的面对面交流。例如，家庭聚餐时，大家都各自低头玩手机，缺乏有效的沟通和互动，影响了家庭关系。\n",
      "#### 辐射问题\n",
      "- 虽然目前没有确凿证据表明手机辐射会对人体健康造成严重危害，但长期接触手机辐射仍可能存在一定的潜在风险。尤其是对于孕妇、儿童等特殊人群，手机辐射可能会引起他们的担忧。\n",
      "#### 拍照质量局限性\n",
      "- 尽管智能手机拍照质量有了很大提升，但与专业相机相比，仍存在一定差距。在一些复杂的拍摄场景下，如夜景、微距、长焦等，手机的成像效果可能不如专业相机。例如，在拍摄星空时，手机很难捕捉到清晰、细腻的星空画面，而专业相机则可以通过调整参数获得更好的拍摄效果。\n",
      "\n",
      "综上所述，智能手机具有诸多优点，给人们的生活带来了极大的便利，但也存在一些缺点，需要用户合理使用，以充分发挥其优势，减少其带来的负面影响。\n"
     ]
    }
   ],
   "execution_count": 23
  }
 ],
 "metadata": {
  "kernelspec": {
   "display_name": "Python 3",
   "language": "python",
   "name": "python3"
  },
  "language_info": {
   "codemirror_mode": {
    "name": "ipython",
    "version": 2
   },
   "file_extension": ".py",
   "mimetype": "text/x-python",
   "name": "python",
   "nbconvert_exporter": "python",
   "pygments_lexer": "ipython2",
   "version": "2.7.6"
  }
 },
 "nbformat": 4,
 "nbformat_minor": 5
}
