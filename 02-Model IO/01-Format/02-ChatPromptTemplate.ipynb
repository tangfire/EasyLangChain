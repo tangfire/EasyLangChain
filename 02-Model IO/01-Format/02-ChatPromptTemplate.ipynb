{
 "cells": [
  {
   "metadata": {},
   "cell_type": "markdown",
   "source": "# 1. 实例化的方式(两种方式: 使用构造方法、from_message())",
   "id": "7ae6f806fd4a37a5"
  },
  {
   "metadata": {},
   "cell_type": "markdown",
   "source": "方式1: 使用构造方法",
   "id": "546b182f516d2d5"
  },
  {
   "metadata": {
    "ExecuteTime": {
     "end_time": "2025-09-21T08:22:16.317142Z",
     "start_time": "2025-09-21T08:22:16.300636Z"
    }
   },
   "cell_type": "code",
   "source": [
    "from langchain_core.messages import SystemMessage, HumanMessage\n",
    "from langchain_core.prompts import ChatPromptTemplate\n",
    "\n",
    "chat_prompt_template =  ChatPromptTemplate(messages=[(\"system\",\"你是一个ai助手，你的名字叫{name}\"),(\"human\",\"我的问题是{question}\")],\n",
    "                                           # input_variables=[\"name\",\"question\"]\n",
    "                                           )\n",
    "\n",
    "\n",
    "response =  chat_prompt_template.invoke(input={\"name\":\"阿龙\",\"question\":\"1 + 2 + 3 = ?\"})\n",
    "\n",
    "print(response)\n",
    "print(type(response))\n",
    "print(len(response.messages))\n"
   ],
   "id": "7563b92d2f6c1d3e",
   "outputs": [
    {
     "name": "stdout",
     "output_type": "stream",
     "text": [
      "messages=[SystemMessage(content='你是一个ai助手，你的名字叫阿龙', additional_kwargs={}, response_metadata={}), HumanMessage(content='我的问题是1 + 2 + 3 = ?', additional_kwargs={}, response_metadata={})]\n",
      "<class 'langchain_core.prompt_values.ChatPromptValue'>\n",
      "2\n"
     ]
    }
   ],
   "execution_count": 7
  },
  {
   "metadata": {},
   "cell_type": "markdown",
   "source": "方式2: 调用from_messages()",
   "id": "cd52de21390d4da0"
  },
  {
   "metadata": {
    "ExecuteTime": {
     "end_time": "2025-09-21T08:25:24.247267Z",
     "start_time": "2025-09-21T08:25:24.241727Z"
    }
   },
   "cell_type": "code",
   "source": [
    "from langchain_core.prompts import ChatPromptTemplate\n",
    "\n",
    "chat_prompt_template =  ChatPromptTemplate.from_messages(messages=[(\"system\",\"你是一个ai助手，你的名字叫{name}\"),(\"human\",\"我的问题是{question}\")],)\n",
    "\n",
    "\n",
    "response =  chat_prompt_template.invoke(input={\"name\":\"阿龙\",\"question\":\"1 + 2 + 3 = ?\"})\n",
    "\n",
    "print(response)\n",
    "print(type(response))\n",
    "print(len(response.messages))\n"
   ],
   "id": "7131a854c9544063",
   "outputs": [
    {
     "name": "stdout",
     "output_type": "stream",
     "text": [
      "messages=[SystemMessage(content='你是一个ai助手，你的名字叫阿龙', additional_kwargs={}, response_metadata={}), HumanMessage(content='我的问题是1 + 2 + 3 = ?', additional_kwargs={}, response_metadata={})]\n",
      "<class 'langchain_core.prompt_values.ChatPromptValue'>\n",
      "2\n"
     ]
    }
   ],
   "execution_count": 10
  },
  {
   "metadata": {},
   "cell_type": "markdown",
   "source": [
    "# 2. 调用提示词模版的几种方法: invoke() \\ format() \\ formatt_message() \\ format_prompt()\n",
    "\n",
    "invoke(): 传入的是字典,返回ChatPromptValue\n",
    "\n",
    "format(): 传入变量的值,返回str\n",
    "\n",
    "format_message(): 传入变量的值,返回消息构成的list\n",
    "\n",
    "format_prompt(): 传入变量的值,返回ChatPromptValue"
   ],
   "id": "9e36a34a7023a6a8"
  },
  {
   "metadata": {},
   "cell_type": "markdown",
   "source": "## 举例1: invoke()",
   "id": "7eccd92c920a6036"
  },
  {
   "metadata": {
    "ExecuteTime": {
     "end_time": "2025-09-21T08:36:33.836063Z",
     "start_time": "2025-09-21T08:36:33.830827Z"
    }
   },
   "cell_type": "code",
   "source": [
    "from langchain_core.prompts import ChatPromptTemplate\n",
    "\n",
    "chat_prompt_template =  ChatPromptTemplate.from_messages(messages=[(\"system\",\"你是一个ai助手，你的名字叫{name}\"),(\"human\",\"我的问题是{question}\")],)\n",
    "\n",
    "\n",
    "response =  chat_prompt_template.invoke(input={\"name\":\"阿龙\",\"question\":\"1 + 2 + 3 = ?\"})\n",
    "\n",
    "print(response)\n",
    "print(type(response))\n",
    "print(len(response.messages))\n"
   ],
   "id": "e7c09d5e537443cb",
   "outputs": [
    {
     "name": "stdout",
     "output_type": "stream",
     "text": [
      "messages=[SystemMessage(content='你是一个ai助手，你的名字叫阿龙', additional_kwargs={}, response_metadata={}), HumanMessage(content='我的问题是1 + 2 + 3 = ?', additional_kwargs={}, response_metadata={})]\n",
      "<class 'langchain_core.prompt_values.ChatPromptValue'>\n",
      "2\n"
     ]
    }
   ],
   "execution_count": 13
  },
  {
   "metadata": {},
   "cell_type": "markdown",
   "source": "## 举例2: format()",
   "id": "ee800af7de7fe662"
  },
  {
   "metadata": {
    "ExecuteTime": {
     "end_time": "2025-09-21T08:37:28.578122Z",
     "start_time": "2025-09-21T08:37:28.565171Z"
    }
   },
   "cell_type": "code",
   "source": [
    "from langchain_core.prompts import ChatPromptTemplate\n",
    "\n",
    "chat_prompt_template =  ChatPromptTemplate.from_messages(messages=[(\"system\",\"你是一个ai助手，你的名字叫{name}\"),(\"human\",\"我的问题是{question}\")],)\n",
    "\n",
    "\n",
    "response =  chat_prompt_template.format(name = \"阿龙\",question = \"1 + 2 + 3 = ?\")\n",
    "\n",
    "print(response)\n",
    "print(type(response))\n",
    "\n"
   ],
   "id": "e0a0018a6abfa54d",
   "outputs": [
    {
     "name": "stdout",
     "output_type": "stream",
     "text": [
      "System: 你是一个ai助手，你的名字叫阿龙\n",
      "Human: 我的问题是1 + 2 + 3 = ?\n",
      "<class 'str'>\n"
     ]
    }
   ],
   "execution_count": 17
  },
  {
   "metadata": {},
   "cell_type": "markdown",
   "source": "## 3. 举例3: format_message()",
   "id": "b1bfcc85407670ed"
  },
  {
   "metadata": {
    "ExecuteTime": {
     "end_time": "2025-09-21T08:39:37.433051Z",
     "start_time": "2025-09-21T08:39:37.423652Z"
    }
   },
   "cell_type": "code",
   "source": [
    "from langchain_core.prompts import ChatPromptTemplate\n",
    "\n",
    "chat_prompt_template =  ChatPromptTemplate.from_messages(messages=[(\"system\",\"你是一个ai助手，你的名字叫{name}\"),(\"human\",\"我的问题是{question}\")],)\n",
    "\n",
    "\n",
    "response =  chat_prompt_template.format_messages(name = \"阿龙\",question = \"1 + 2 + 3 = ?\")\n",
    "\n",
    "print(response)\n",
    "print(type(response))\n",
    "\n"
   ],
   "id": "b665f4d1221ea63e",
   "outputs": [
    {
     "name": "stdout",
     "output_type": "stream",
     "text": [
      "[SystemMessage(content='你是一个ai助手，你的名字叫阿龙', additional_kwargs={}, response_metadata={}), HumanMessage(content='我的问题是1 + 2 + 3 = ?', additional_kwargs={}, response_metadata={})]\n",
      "<class 'list'>\n"
     ]
    }
   ],
   "execution_count": 18
  },
  {
   "metadata": {},
   "cell_type": "markdown",
   "source": "## 举例4: format_prompt()",
   "id": "3cb2cdf479f86d13"
  },
  {
   "metadata": {
    "ExecuteTime": {
     "end_time": "2025-09-21T08:50:20.986156Z",
     "start_time": "2025-09-21T08:50:20.973267Z"
    }
   },
   "cell_type": "code",
   "source": [
    "from langchain_core.prompts import ChatPromptTemplate\n",
    "\n",
    "chat_prompt_template =  ChatPromptTemplate.from_messages(messages=[(\"system\",\"你是一个ai助手，你的名字叫{name}\"),(\"human\",\"我的问题是{question}\")],)\n",
    "\n",
    "\n",
    "response =  chat_prompt_template.format_prompt(name = \"阿龙\",question = \"1 + 2 + 3 = ?\")\n",
    "\n",
    "print(response)\n",
    "print(type(response))\n",
    "\n"
   ],
   "id": "e696d2fc3a23cf6b",
   "outputs": [
    {
     "name": "stdout",
     "output_type": "stream",
     "text": [
      "messages=[SystemMessage(content='你是一个ai助手，你的名字叫阿龙', additional_kwargs={}, response_metadata={}), HumanMessage(content='我的问题是1 + 2 + 3 = ?', additional_kwargs={}, response_metadata={})]\n",
      "<class 'langchain_core.prompt_values.ChatPromptValue'>\n"
     ]
    }
   ],
   "execution_count": 24
  },
  {
   "metadata": {},
   "cell_type": "markdown",
   "source": "如何实现ChatPromptValue与list[messages]、字符串之间的转换",
   "id": "469c8e8fd8c698f8"
  },
  {
   "metadata": {
    "ExecuteTime": {
     "end_time": "2025-09-21T08:52:42.826108Z",
     "start_time": "2025-09-21T08:52:42.810005Z"
    }
   },
   "cell_type": "code",
   "source": [
    "from langchain_core.prompts import ChatPromptTemplate\n",
    "\n",
    "chat_prompt_template =  ChatPromptTemplate.from_messages(messages=[(\"system\",\"你是一个ai助手，你的名字叫{name}\"),(\"human\",\"我的问题是{question}\")],)\n",
    "\n",
    "\n",
    "response =  chat_prompt_template.format_prompt(name = \"阿龙\",question = \"1 + 2 + 3 = ?\")\n",
    "\n",
    "response_messages = response.to_messages()\n",
    "\n",
    "# 将ChatPromptValue类型转换为消息构成的list\n",
    "# print(response_messages)\n",
    "# print(type(response_messages))\n",
    "\n",
    "response_to_string = response.to_string()\n",
    "print(response_to_string)\n",
    "print(type(response_to_string))\n"
   ],
   "id": "93342b67b072de12",
   "outputs": [
    {
     "name": "stdout",
     "output_type": "stream",
     "text": [
      "System: 你是一个ai助手，你的名字叫阿龙\n",
      "Human: 我的问题是1 + 2 + 3 = ?\n",
      "<class 'str'>\n"
     ]
    }
   ],
   "execution_count": 30
  },
  {
   "metadata": {
    "ExecuteTime": {
     "end_time": "2025-09-21T08:54:21.280331Z",
     "start_time": "2025-09-21T08:54:21.273868Z"
    }
   },
   "cell_type": "code",
   "source": [
    "from langchain_core.prompts import ChatPromptTemplate\n",
    "\n",
    "chat_prompt_template =  ChatPromptTemplate.from_messages(messages=[(\"system\",\"你是一个ai助手，你的名字叫{name}\"),(\"human\",\"我的问题是{question}\")],)\n",
    "\n",
    "\n",
    "response =  chat_prompt_template.invoke({\"name\" : \"阿龙\",\"question\":\"1 + 2 + 3 = ?\"})\n",
    "\n",
    "response_messages = response.to_messages()\n",
    "\n",
    "# 将ChatPromptValue类型转换为消息构成的list\n",
    "# print(response_messages)\n",
    "# print(type(response_messages))\n",
    "\n",
    "response_to_string = response.to_string()\n",
    "print(response_to_string)\n",
    "print(type(response_to_string))\n"
   ],
   "id": "76467ff3b84f28a8",
   "outputs": [
    {
     "name": "stdout",
     "output_type": "stream",
     "text": [
      "System: 你是一个ai助手，你的名字叫阿龙\n",
      "Human: 我的问题是1 + 2 + 3 = ?\n",
      "<class 'str'>\n"
     ]
    }
   ],
   "execution_count": 31
  },
  {
   "metadata": {},
   "cell_type": "markdown",
   "source": "# 3. 更丰富的实例化参数类型\n",
   "id": "80f07e62a82c93d"
  },
  {
   "metadata": {},
   "cell_type": "markdown",
   "source": [
    "```python\n",
    "@classmethod def from_messages(cls,\n",
    "                  messages: Sequence[BaseMessagePromptTemplate | BaseMessage | BaseChatPromptTemplate | tuple[str | type, str | list[dict] | list[object]] | str | dict[str, Any]],\n",
    "                  template_format: Literal[\"f-string\", \"mustache\", \"jinja2\"] = \"f-string\")\n",
    "  -> ChatPromptTemplate\n",
    "```"
   ],
   "id": "359cffb5f8bc5715"
  },
  {
   "metadata": {},
   "cell_type": "markdown",
   "source": "## 举例1: 元组构成的列表(最常用、最基础、最简单)",
   "id": "bd1f8db4e552c3bf"
  },
  {
   "metadata": {
    "ExecuteTime": {
     "end_time": "2025-09-21T09:07:58.887228Z",
     "start_time": "2025-09-21T09:07:58.871866Z"
    }
   },
   "cell_type": "code",
   "source": [
    "from langchain_core.prompts import ChatPromptTemplate\n",
    "\n",
    "chat_prompt_template =  ChatPromptTemplate.from_messages(messages=[(\"system\",\"你是一个ai助手，你的名字叫{name}\"),(\"human\",\"我的问题是{question}\")],)\n",
    "\n",
    "\n",
    "response =  chat_prompt_template.invoke({\"name\" : \"阿龙\",\"question\":\"1 + 2 + 3 = ?\"})\n",
    "\n",
    "print(response)"
   ],
   "id": "6c020a029f8270b0",
   "outputs": [
    {
     "name": "stdout",
     "output_type": "stream",
     "text": [
      "messages=[SystemMessage(content='你是一个ai助手，你的名字叫阿龙', additional_kwargs={}, response_metadata={}), HumanMessage(content='我的问题是1 + 2 + 3 = ?', additional_kwargs={}, response_metadata={})]\n"
     ]
    }
   ],
   "execution_count": 32
  },
  {
   "metadata": {},
   "cell_type": "markdown",
   "source": "## 举例2: 字符串",
   "id": "2c8177fa67c707b"
  },
  {
   "metadata": {
    "ExecuteTime": {
     "end_time": "2025-09-21T10:21:12.670295Z",
     "start_time": "2025-09-21T10:21:12.651074Z"
    }
   },
   "cell_type": "code",
   "source": [
    "from langchain_core.prompts import ChatPromptTemplate\n",
    "\n",
    "chat_prompt_template =  ChatPromptTemplate.from_messages(messages=[\"我的问题是{question}\"],)\n",
    "\n",
    "\n",
    "response =  chat_prompt_template.invoke({\"question\":\"1 + 2 + 3 = ?\"})\n",
    "print(response)\n"
   ],
   "id": "3a683a08eb91f44d",
   "outputs": [
    {
     "name": "stdout",
     "output_type": "stream",
     "text": [
      "messages=[HumanMessage(content='我的问题是1 + 2 + 3 = ?', additional_kwargs={}, response_metadata={})]\n"
     ]
    }
   ],
   "execution_count": 33
  },
  {
   "metadata": {},
   "cell_type": "markdown",
   "source": "## 举例3: 字典",
   "id": "64133ea2c49bf757"
  },
  {
   "metadata": {
    "ExecuteTime": {
     "end_time": "2025-09-21T10:27:15.052473Z",
     "start_time": "2025-09-21T10:27:15.042576Z"
    }
   },
   "cell_type": "code",
   "source": [
    "from langchain_core.prompts import ChatPromptTemplate\n",
    "\n",
    "chat_prompt_template =  ChatPromptTemplate.from_messages(messages=[{\"role\":\"system\",\"content\":\"你是一个人工智能助手,你的名字叫{name}\"},{\"role\":\"human\",\"content\":\"我的问题是{question}\"}],)\n",
    "\n",
    "\n",
    "response =  chat_prompt_template.invoke({\"name\" : \"阿龙\",\"question\":\"1 + 2 + 3 = ?\"})\n",
    "\n",
    "print(response)"
   ],
   "id": "e9c78e8b6b726bb5",
   "outputs": [
    {
     "name": "stdout",
     "output_type": "stream",
     "text": [
      "messages=[SystemMessage(content='你是一个人工智能助手,你的名字叫阿龙', additional_kwargs={}, response_metadata={}), HumanMessage(content='我的问题是1 + 2 + 3 = ?', additional_kwargs={}, response_metadata={})]\n"
     ]
    }
   ],
   "execution_count": 38
  },
  {
   "metadata": {},
   "cell_type": "markdown",
   "source": "## 举例4: Chat提示词模版类型",
   "id": "f2f542b09aa7423c"
  },
  {
   "metadata": {
    "ExecuteTime": {
     "end_time": "2025-09-21T10:35:04.863086Z",
     "start_time": "2025-09-21T10:35:04.856458Z"
    }
   },
   "cell_type": "code",
   "source": [
    "from langchain_core.prompts import ChatPromptTemplate, SystemMessagePromptTemplate, HumanMessagePromptTemplate\n",
    "\n",
    "# 使用 PromptTemplate 来创建可格式化的消息\n",
    "system_template = ChatPromptTemplate.from_messages(\n",
    "    [(\"system\",\"你是一个人工智能助手,你的名字叫{name}\")]\n",
    ")\n",
    "human_template = ChatPromptTemplate.from_messages(\n",
    "    [(\"human\",\"我的问题是{question}\")]\n",
    ")\n",
    "\n",
    "# 创建聊天提示模板\n",
    "chat_prompt_template = ChatPromptTemplate.from_messages([\n",
    "    system_template,\n",
    "    human_template\n",
    "])\n",
    "\n",
    "# 调用\n",
    "response = chat_prompt_template.invoke({\n",
    "    \"name\": \"阿龙\",\n",
    "    \"question\": \"1 + 2 + 3 = ?\"\n",
    "})\n",
    "\n",
    "print(\"格式化后的消息:\", response.messages)\n",
    "print(\"字符串形式:\", response.to_string())"
   ],
   "id": "87f034001d23bde4",
   "outputs": [
    {
     "name": "stdout",
     "output_type": "stream",
     "text": [
      "格式化后的消息: [SystemMessage(content='你是一个人工智能助手,你的名字叫阿龙', additional_kwargs={}, response_metadata={}), HumanMessage(content='我的问题是1 + 2 + 3 = ?', additional_kwargs={}, response_metadata={})]\n",
      "字符串形式: System: 你是一个人工智能助手,你的名字叫阿龙\n",
      "Human: 我的问题是1 + 2 + 3 = ?\n"
     ]
    }
   ],
   "execution_count": 47
  },
  {
   "metadata": {},
   "cell_type": "markdown",
   "source": "## 举例5: 消息提示词模版类型",
   "id": "dff64ee24c4dbfb2"
  },
  {
   "metadata": {
    "ExecuteTime": {
     "end_time": "2025-09-21T10:35:10.061310Z",
     "start_time": "2025-09-21T10:35:10.053740Z"
    }
   },
   "cell_type": "code",
   "source": [
    "from langchain_core.prompts import ChatPromptTemplate, SystemMessagePromptTemplate, HumanMessagePromptTemplate\n",
    "\n",
    "# 使用 PromptTemplate 来创建可格式化的消息\n",
    "system_template = SystemMessagePromptTemplate.from_template(\n",
    "    \"你是一个人工智能助手,你的名字叫{name}\"\n",
    ")\n",
    "human_template = HumanMessagePromptTemplate.from_template(\n",
    "    \"我的问题是{question}\"\n",
    ")\n",
    "\n",
    "# 创建聊天提示模板\n",
    "chat_prompt_template = ChatPromptTemplate.from_messages([\n",
    "    system_template,\n",
    "    human_template\n",
    "])\n",
    "\n",
    "# 调用\n",
    "response = chat_prompt_template.invoke({\n",
    "    \"name\": \"阿龙\",\n",
    "    \"question\": \"1 + 2 + 3 = ?\"\n",
    "})\n",
    "\n",
    "print(\"格式化后的消息:\", response.messages)\n",
    "print(\"字符串形式:\", response.to_string())"
   ],
   "id": "bc2d866a10958fe",
   "outputs": [
    {
     "name": "stdout",
     "output_type": "stream",
     "text": [
      "格式化后的消息: [SystemMessage(content='你是一个人工智能助手,你的名字叫阿龙', additional_kwargs={}, response_metadata={}), HumanMessage(content='我的问题是1 + 2 + 3 = ?', additional_kwargs={}, response_metadata={})]\n",
      "字符串形式: System: 你是一个人工智能助手,你的名字叫阿龙\n",
      "Human: 我的问题是1 + 2 + 3 = ?\n"
     ]
    }
   ],
   "execution_count": 48
  },
  {
   "metadata": {},
   "cell_type": "markdown",
   "source": "## 举例6: 消息类型",
   "id": "ab7eee27db93e8fd"
  },
  {
   "metadata": {
    "ExecuteTime": {
     "end_time": "2025-09-21T10:51:16.119911Z",
     "start_time": "2025-09-21T10:51:16.100938Z"
    }
   },
   "cell_type": "code",
   "source": [
    "from langchain_core.prompts import ChatPromptTemplate\n",
    "\n",
    "chat_prompt_template = ChatPromptTemplate.from_messages(\n",
    "    [SystemMessage(content=\"我是一个人工智能助手,我的名字叫{name}\"),HumanMessage(content=\"我的问题是{question}\")]\n",
    ")\n",
    "\n",
    "\n",
    "\n",
    "# 调用\n",
    "response = chat_prompt_template.invoke({})\n",
    "\n",
    "print(\"格式化后的消息:\", response.messages)\n",
    "print(\"字符串形式:\", response.to_string())"
   ],
   "id": "35febdccd44646fd",
   "outputs": [
    {
     "name": "stdout",
     "output_type": "stream",
     "text": [
      "格式化后的消息: [SystemMessage(content='我是一个人工智能助手,我的名字叫{name}', additional_kwargs={}, response_metadata={}), HumanMessage(content='我的问题是{question}', additional_kwargs={}, response_metadata={})]\n",
      "字符串形式: System: 我是一个人工智能助手,我的名字叫{name}\n",
      "Human: 我的问题是{question}\n"
     ]
    }
   ],
   "execution_count": 52
  },
  {
   "metadata": {},
   "cell_type": "markdown",
   "source": "# 4. 结合LLM",
   "id": "9c1722b6c507c979"
  },
  {
   "metadata": {},
   "cell_type": "markdown",
   "source": "# 5. 插入消息列表: MessagePlaceholder",
   "id": "d3c14ca716c63538"
  },
  {
   "metadata": {},
   "cell_type": "code",
   "outputs": [],
   "execution_count": null,
   "source": "",
   "id": "d965b1d948547a91"
  }
 ],
 "metadata": {
  "kernelspec": {
   "display_name": "Python 3",
   "language": "python",
   "name": "python3"
  },
  "language_info": {
   "codemirror_mode": {
    "name": "ipython",
    "version": 2
   },
   "file_extension": ".py",
   "mimetype": "text/x-python",
   "name": "python",
   "nbconvert_exporter": "python",
   "pygments_lexer": "ipython2",
   "version": "2.7.6"
  }
 },
 "nbformat": 4,
 "nbformat_minor": 5
}
