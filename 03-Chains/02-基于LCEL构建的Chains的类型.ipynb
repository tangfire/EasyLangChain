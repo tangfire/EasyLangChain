{
 "cells": [
  {
   "metadata": {},
   "cell_type": "markdown",
   "source": [
    "# create_sql_query_chain\n",
    "create_sql_query_chain,SQL查询链,是创建生成SQL查询的链,用于将`自然语言`转换成`数据库的SQL查询`"
   ],
   "id": "d1251f3ec84d41ce"
  },
  {
   "metadata": {},
   "cell_type": "markdown",
   "source": "## 举例1:",
   "id": "6cad2bc52f32d626"
  },
  {
   "metadata": {
    "ExecuteTime": {
     "end_time": "2025-10-09T12:31:56.299669Z",
     "start_time": "2025-10-09T12:31:56.244366Z"
    }
   },
   "cell_type": "code",
   "source": [
    "# pip install -U langchain langchain-community langchain-openai\n",
    "from langchain_openai import ChatOpenAI\n",
    "from langchain.chains import create_sql_query_chain\n",
    "from langchain_community.utilities import SQLDatabase\n",
    "\n",
    "db_user = \"root\"\n",
    "db_password = \"8888.216\"\n",
    "db_host = \"localhost\"\n",
    "db_database = \"db\"\n",
    "db_port = \"3306\"\n",
    "db = SQLDatabase.from_uri(f\"mysql+pymysql://{db_user}:{db_password}@{db_host}:{db_port}/{db_database}\")\n",
    "\n",
    "print(\"操作的是哪种数据库: \",db.dialect)\n",
    "print(\"获取数据库中的表: \",db.get_usable_table_names())\n",
    "\n",
    "db.run(\"select count(*) from books\")"
   ],
   "id": "feceea58fdb03301",
   "outputs": [
    {
     "name": "stdout",
     "output_type": "stream",
     "text": [
      "操作的是哪种数据库:  mysql\n",
      "获取数据库中的表:  ['books', 'todos', 'user']\n"
     ]
    },
    {
     "data": {
      "text/plain": [
       "'[(1,)]'"
      ]
     },
     "execution_count": 6,
     "metadata": {},
     "output_type": "execute_result"
    }
   ],
   "execution_count": 6
  },
  {
   "metadata": {},
   "cell_type": "markdown",
   "source": "## 举例2: chain的使用",
   "id": "542321e0b8290a80"
  },
  {
   "metadata": {
    "ExecuteTime": {
     "end_time": "2025-10-09T12:44:23.211867Z",
     "start_time": "2025-10-09T12:44:22.165774Z"
    }
   },
   "cell_type": "code",
   "source": [
    "import os\n",
    "import dotenv\n",
    "# pip install -U langchain langchain-community langchain-openai\n",
    "from langchain_openai import ChatOpenAI\n",
    "from langchain.chains import create_sql_query_chain\n",
    "from langchain_community.utilities import SQLDatabase\n",
    "\n",
    "db_user = \"root\"\n",
    "db_password = \"8888.216\"\n",
    "db_host = \"localhost\"\n",
    "db_database = \"db\"\n",
    "db_port = \"3306\"\n",
    "db = SQLDatabase.from_uri(f\"mysql+pymysql://{db_user}:{db_password}@{db_host}:{db_port}/{db_database}\")\n",
    "\n",
    "dotenv.load_dotenv()\n",
    "\n",
    "chat_model =  ChatOpenAI(\n",
    "    model_name = os.getenv(\"MODEL\"),\n",
    "    base_url = os.getenv(\"BASE_URL\"),\n",
    "    api_key = os.getenv(\"ARK_API_KEY\"),\n",
    ")\n",
    "\n",
    "chain = create_sql_query_chain(chat_model,db)\n",
    "response =  chain.invoke({\"question\":\"数据库表books一共有多少数据？\"})\n",
    "print(response)\n",
    "\n"
   ],
   "id": "fb6951be289222cd",
   "outputs": [
    {
     "name": "stdout",
     "output_type": "stream",
     "text": [
      "SELECT COUNT(`id`) as `book_count` FROM `books`;\n"
     ]
    }
   ],
   "execution_count": 8
  },
  {
   "metadata": {},
   "cell_type": "markdown",
   "source": "# create_stuff_documents_chain(了解)",
   "id": "34de4d5848a16bc4"
  },
  {
   "metadata": {},
   "cell_type": "markdown",
   "source": [
    "create_stuff_documents_chain用于将`多个文档内容`合并成`单个长文本`的链式工具，并一次性传递给LLM处理（而不是分多次处理）。\n",
    "适合场景：\n",
    "- 保持上下文完整，适合需要全局理解所有文档内容的任务（如总结、问答）\n",
    "- 适合处理 少量/中等长度文档 的场景。"
   ],
   "id": "d2c150f6b672352c"
  },
  {
   "metadata": {
    "ExecuteTime": {
     "end_time": "2025-10-09T12:57:24.518316Z",
     "start_time": "2025-10-09T12:57:22.940706Z"
    }
   },
   "cell_type": "code",
   "source": [
    "from langchain.chains.combine_documents import create_stuff_documents_chain\n",
    "from langchain_core.prompts import PromptTemplate\n",
    "from langchain_openai import ChatOpenAI\n",
    "from langchain_core.documents import Document\n",
    "\n",
    "# 定义提示词模板\n",
    "prompt = PromptTemplate.from_template(\"\"\"\n",
    "根据以下文档内容回答问题：\n",
    "{docs}\n",
    "\n",
    "问题：香蕉是什么颜色的？\n",
    "\"\"\")\n",
    "\n",
    "\n",
    "dotenv.load_dotenv()\n",
    "\n",
    "chat_model =  ChatOpenAI(\n",
    "    model_name = os.getenv(\"MODEL\"),\n",
    "    base_url = os.getenv(\"BASE_URL\"),\n",
    "    api_key = os.getenv(\"ARK_API_KEY\"),\n",
    ")\n",
    "\n",
    "# 创建链\n",
    "chain = create_stuff_documents_chain(chat_model, prompt, document_variable_name=\"docs\")\n",
    "\n",
    "# 文档输入（修正格式和内容）\n",
    "docs = [\n",
    "    Document(\n",
    "        page_content=\"苹果，学名Malus pumila Mill.，别称西洋苹果、柰，属于蔷薇科苹果属的植物。苹果是全球最广泛种植和销售的水果之一。\"\n",
    "    ),\n",
    "    Document(\n",
    "        page_content=\"香蕉是黄色的水果，通常在成熟时呈现明亮的黄色。未成熟时可能是绿色的，白色可能是误解。\"\n",
    "    ),\n",
    "    Document(\n",
    "        page_content=\"蓝莓是蓝色的浆果，含有丰富的抗氧化物质。\"\n",
    "    )\n",
    "]\n",
    "\n",
    "# 执行查询\n",
    "result = chain.invoke({\"docs\": docs})\n",
    "print(result)"
   ],
   "id": "7edf1c79cdaf6fab",
   "outputs": [
    {
     "name": "stdout",
     "output_type": "stream",
     "text": [
      "香蕉通常在成熟时呈现明亮的黄色，未成熟时可能是绿色的。 \n"
     ]
    }
   ],
   "execution_count": 9
  }
 ],
 "metadata": {
  "kernelspec": {
   "display_name": "Python 3",
   "language": "python",
   "name": "python3"
  },
  "language_info": {
   "codemirror_mode": {
    "name": "ipython",
    "version": 2
   },
   "file_extension": ".py",
   "mimetype": "text/x-python",
   "name": "python",
   "nbconvert_exporter": "python",
   "pygments_lexer": "ipython2",
   "version": "2.7.6"
  }
 },
 "nbformat": 4,
 "nbformat_minor": 5
}
