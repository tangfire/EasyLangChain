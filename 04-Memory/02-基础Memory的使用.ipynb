{
 "cells": [
  {
   "metadata": {},
   "cell_type": "markdown",
   "source": "# 1. ChatMessageHistory的使用\n",
   "id": "969f04d315d59853"
  },
  {
   "metadata": {},
   "cell_type": "markdown",
   "source": "## 场景1: 记忆存储",
   "id": "b8c1f1cc19a312d0"
  },
  {
   "metadata": {
    "ExecuteTime": {
     "end_time": "2025-10-10T14:11:04.967243Z",
     "start_time": "2025-10-10T14:11:03.907298Z"
    }
   },
   "cell_type": "code",
   "source": [
    "from langchain.memory import ChatMessageHistory, ConversationBufferMemory\n",
    "\n",
    "history =  ChatMessageHistory()\n",
    "\n",
    "history.add_user_message(\"你好\")\n",
    "\n",
    "history.add_ai_message(\"很高兴认识你\")\n",
    "\n",
    "print(history.messages)\n"
   ],
   "id": "18dd5c6cbec1f81b",
   "outputs": [
    {
     "name": "stdout",
     "output_type": "stream",
     "text": [
      "[HumanMessage(content='你好', additional_kwargs={}, response_metadata={}), AIMessage(content='很高兴认识你', additional_kwargs={}, response_metadata={})]\n"
     ]
    }
   ],
   "execution_count": 2
  },
  {
   "metadata": {},
   "cell_type": "markdown",
   "source": "## 场景2: 对接LLM",
   "id": "6c55158c70329dbc"
  },
  {
   "metadata": {
    "ExecuteTime": {
     "end_time": "2025-10-10T14:15:16.230726Z",
     "start_time": "2025-10-10T14:15:12.730621Z"
    }
   },
   "cell_type": "code",
   "source": [
    "import os\n",
    "from langchain_openai import ChatOpenAI\n",
    "import dotenv\n",
    "from langchain.memory import ChatMessageHistory\n",
    "\n",
    "dotenv.load_dotenv()\n",
    "\n",
    "chat_model =  ChatOpenAI(\n",
    "    model_name = os.getenv(\"MODEL\"),\n",
    "    base_url = os.getenv(\"BASE_URL\"),\n",
    "    api_key = os.getenv(\"ARK_API_KEY\"),\n",
    ")\n",
    "\n",
    "\n",
    "history =  ChatMessageHistory()\n",
    "\n",
    "history.add_user_message(\"你好\")\n",
    "\n",
    "history.add_ai_message(\"很高兴认识你\")\n",
    "\n",
    "history.add_user_message(\"帮我计算1 + 2 + 3 = ?\")\n",
    "\n",
    "response = chat_model.invoke(history.messages)\n",
    "\n",
    "print(response.content)\n"
   ],
   "id": "6d843df89fb152cc",
   "outputs": [
    {
     "name": "stdout",
     "output_type": "stream",
     "text": [
      "按照数学运算顺序，从左到右依次计算：\n",
      "先计算1 + 2 = 3，再计算3 + 3 = 6。\n",
      "\n",
      "所以1 + 2 + 3的结果是6。 \n"
     ]
    }
   ],
   "execution_count": 3
  },
  {
   "metadata": {},
   "cell_type": "markdown",
   "source": [
    "# 2. ConversationBufferMemory\n",
    "\n",
    "- 适用场景：对话轮次较少、依赖完整上下文的场景（如简单的聊天机器）\n",
    "- 特点：\n",
    "    - 完整存储对话历史\n",
    "    - 简单 、 无裁剪 、 无压缩\n",
    "    - 与 Chains/Models 无缝集成\n",
    "    - 支持两种返回格式（通过 return_messages 参数控制输出格式）\n",
    "        - return_messages=True 返回消息对象列表（ List[BaseMessage]\n",
    "        - return_messages=False （默认） 返回拼接的 纯文本字符串\n",
    "\n"
   ],
   "id": "af5f491d7b93ee1"
  },
  {
   "metadata": {},
   "cell_type": "markdown",
   "source": "## 举例1: 以字符串的方式返回存储的信息",
   "id": "1e05de6834b3cdd7"
  },
  {
   "metadata": {
    "ExecuteTime": {
     "end_time": "2025-10-10T14:26:07.069236Z",
     "start_time": "2025-10-10T14:26:07.052047Z"
    }
   },
   "cell_type": "code",
   "source": [
    "from langchain.memory import ConversationBufferMemory\n",
    "\n",
    "memory = ConversationBufferMemory()\n",
    "\n",
    "memory.save_context(inputs={\"input\":\"你好，我叫小明\"},outputs = {\"output\":\"很高兴认识你\"})\n",
    "\n",
    "memory.save_context(inputs={\"input\":\"请帮我回到一下1 + 2 * 3 = ?\"},outputs={\"output\":\"7\"})\n",
    "\n",
    "print(memory.load_memory_variables({}))\n",
    " "
   ],
   "id": "e5bd3bee1911c607",
   "outputs": [
    {
     "name": "stdout",
     "output_type": "stream",
     "text": [
      "{'history': 'Human: 你好，我叫小明\\nAI: 很高兴认识你\\nHuman: 请帮我回到一下1 + 2 * 3 = ?\\nAI: 7'}\n"
     ]
    }
   ],
   "execution_count": 5
  },
  {
   "metadata": {},
   "cell_type": "markdown",
   "source": "## 举例2: 以消息列表的方式返回存储的消息",
   "id": "bcdb84979784ba00"
  },
  {
   "metadata": {
    "ExecuteTime": {
     "end_time": "2025-10-10T14:31:47.387159Z",
     "start_time": "2025-10-10T14:31:47.377364Z"
    }
   },
   "cell_type": "code",
   "source": [
    "from langchain.memory import ConversationBufferMemory\n",
    "\n",
    "memory = ConversationBufferMemory(return_messages=True)\n",
    "\n",
    "memory.save_context(inputs={\"input\":\"你好，我叫小明\"},outputs = {\"output\":\"很高兴认识你\"})\n",
    "\n",
    "memory.save_context(inputs={\"input\":\"请帮我回到一下1 + 2 * 3 = ?\"},outputs={\"output\":\"7\"})\n",
    "\n",
    "print(memory.load_memory_variables({}))\n",
    "\n",
    "print('\\n')\n",
    "\n",
    "print(memory.chat_memory.messages)\n",
    " "
   ],
   "id": "79cae51fd15cd2eb",
   "outputs": [
    {
     "name": "stdout",
     "output_type": "stream",
     "text": [
      "{'history': [HumanMessage(content='你好，我叫小明', additional_kwargs={}, response_metadata={}), AIMessage(content='很高兴认识你', additional_kwargs={}, response_metadata={}), HumanMessage(content='请帮我回到一下1 + 2 * 3 = ?', additional_kwargs={}, response_metadata={}), AIMessage(content='7', additional_kwargs={}, response_metadata={})]}\n",
      "\n",
      "\n",
      "[HumanMessage(content='你好，我叫小明', additional_kwargs={}, response_metadata={}), AIMessage(content='很高兴认识你', additional_kwargs={}, response_metadata={}), HumanMessage(content='请帮我回到一下1 + 2 * 3 = ?', additional_kwargs={}, response_metadata={}), AIMessage(content='7', additional_kwargs={}, response_metadata={})]\n"
     ]
    }
   ],
   "execution_count": 7
  }
 ],
 "metadata": {
  "kernelspec": {
   "display_name": "Python 3",
   "language": "python",
   "name": "python3"
  },
  "language_info": {
   "codemirror_mode": {
    "name": "ipython",
    "version": 2
   },
   "file_extension": ".py",
   "mimetype": "text/x-python",
   "name": "python",
   "nbconvert_exporter": "python",
   "pygments_lexer": "ipython2",
   "version": "2.7.6"
  }
 },
 "nbformat": 4,
 "nbformat_minor": 5
}
