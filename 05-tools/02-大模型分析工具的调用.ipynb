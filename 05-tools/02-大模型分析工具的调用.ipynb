{
 "cells": [
  {
   "metadata": {},
   "cell_type": "markdown",
   "source": "# 举例1: 大模型分析工具的调用",
   "id": "6bad010524064206"
  },
  {
   "metadata": {},
   "cell_type": "code",
   "outputs": [],
   "execution_count": null,
   "source": [
    "# 1. 获取大模型\n",
    "\n",
    "\n",
    "# 2. 获取工具的列表\n",
    "\n",
    "# 3. 获取消息列表\n",
    "\n",
    "# 4. 调用大模型(传入消息列表、工具的列表)"
   ],
   "id": "acb621777b52a036"
  }
 ],
 "metadata": {
  "kernelspec": {
   "display_name": "Python 3",
   "language": "python",
   "name": "python3"
  },
  "language_info": {
   "codemirror_mode": {
    "name": "ipython",
    "version": 2
   },
   "file_extension": ".py",
   "mimetype": "text/x-python",
   "name": "python",
   "nbconvert_exporter": "python",
   "pygments_lexer": "ipython2",
   "version": "2.7.6"
  }
 },
 "nbformat": 4,
 "nbformat_minor": 5
}
