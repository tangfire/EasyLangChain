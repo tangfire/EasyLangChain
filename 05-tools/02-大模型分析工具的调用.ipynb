{
 "cells": [
  {
   "metadata": {},
   "cell_type": "markdown",
   "source": "# 举例1: 大模型分析工具的调用",
   "id": "6bad010524064206"
  },
  {
   "metadata": {
    "ExecuteTime": {
     "end_time": "2025-10-16T11:11:10.188864Z",
     "start_time": "2025-10-16T11:11:08.115503Z"
    }
   },
   "cell_type": "code",
   "source": [
    "import os\n",
    "import dotenv\n",
    "from langchain_community.tools import MoveFileTool\n",
    "from langchain_core.messages import HumanMessage\n",
    "from langchain_core.utils.function_calling import convert_to_openai_function\n",
    "from langchain_openai import ChatOpenAI\n",
    "\n",
    "\n",
    "# 1. 获取大模型\n",
    "\n",
    "dotenv.load_dotenv()\n",
    "\n",
    "chat_model = ChatOpenAI(\n",
    "    model_name = os.getenv(\"MODEL\"),\n",
    "    api_key = os.getenv(\"ARK_API_KEY\"),\n",
    "    base_url = os.getenv(\"BASE_URL\"),\n",
    "    temperature = 0\n",
    ")\n",
    "\n",
    "\n",
    "# 2. 获取工具的列表\n",
    "tools = [MoveFileTool()]\n",
    "\n",
    "# 3. 因为大模型invoke调用时，需要传入函数的列表，所以需要将工具转换为函数\n",
    "functions = [convert_to_openai_function(t) for t in tools]\n",
    "\n",
    "\n",
    "# 4. 获取消息列表\n",
    "messages = [HumanMessage(content=\"将文件a移动到桌面\")]\n",
    "\n",
    "# 5. 调用大模型(传入消息列表、工具的列表)\n",
    "response =  chat_model.invoke(\n",
    "    input=messages,\n",
    "    functions = functions,\n",
    ")\n",
    "\n",
    "print(response)\n",
    "\n"
   ],
   "id": "acb621777b52a036",
   "outputs": [
    {
     "name": "stdout",
     "output_type": "stream",
     "text": [
      "content='' additional_kwargs={'function_call': {'arguments': '{\"source_path\":\"a\",\"destination_path\":\"/Users/YourUsername/Desktop/a\"}', 'name': 'move_file'}, 'refusal': None} response_metadata={'token_usage': {'completion_tokens': 27, 'prompt_tokens': 76, 'total_tokens': 103, 'completion_tokens_details': {'accepted_prediction_tokens': 0, 'audio_tokens': 0, 'reasoning_tokens': 0, 'rejected_prediction_tokens': 0}, 'prompt_tokens_details': {'audio_tokens': 0, 'cached_tokens': 0}}, 'model_name': 'gpt-4o-mini-2024-07-18', 'system_fingerprint': 'fp_efad92c60b', 'id': 'chatcmpl-CRGAwTFld2X2TULkeVsFK1rx2YPTp', 'service_tier': None, 'finish_reason': 'function_call', 'logprobs': None} id='run--fbb1283b-1389-4e2f-9e2f-6b8be8f69d9d-0' usage_metadata={'input_tokens': 76, 'output_tokens': 27, 'total_tokens': 103, 'input_token_details': {'audio': 0, 'cache_read': 0}, 'output_token_details': {'audio': 0, 'reasoning': 0}}\n"
     ]
    }
   ],
   "execution_count": 2
  },
  {
   "metadata": {},
   "cell_type": "markdown",
   "source": "# 举例2: 如何调用具体大模型分析出来的工具",
   "id": "13c1a62314ac43c"
  },
  {
   "metadata": {},
   "cell_type": "markdown",
   "source": [
    "## 说明:\n",
    "1. 大模型与Agent的核心区别:\n",
    "2. 针对于大模型: 仅能分析出要调用的工具,但是此工具(或函数)不能真正的执行\n",
    "针对于Agent: 除了分析出要调用的工具之外,还可以执行具体的工具(或函数)"
   ],
   "id": "2eb7a6a7ceef55a3"
  },
  {
   "metadata": {
    "ExecuteTime": {
     "end_time": "2025-10-16T11:36:55.345265Z",
     "start_time": "2025-10-16T11:36:54.269631Z"
    }
   },
   "cell_type": "code",
   "source": [
    "import json\n",
    "import os\n",
    "import dotenv\n",
    "from langchain_community.tools import MoveFileTool\n",
    "from langchain_core.messages import HumanMessage\n",
    "from langchain_core.utils.function_calling import convert_to_openai_function\n",
    "from langchain_openai import ChatOpenAI\n",
    "\n",
    "\n",
    "# 1. 获取大模型\n",
    "\n",
    "dotenv.load_dotenv()\n",
    "\n",
    "chat_model = ChatOpenAI(\n",
    "    model_name = os.getenv(\"MODEL\"),\n",
    "    api_key = os.getenv(\"ARK_API_KEY\"),\n",
    "    base_url = os.getenv(\"BASE_URL\"),\n",
    "    temperature = 0\n",
    ")\n",
    "\n",
    "\n",
    "# 2. 获取工具的列表\n",
    "tools = [MoveFileTool()]\n",
    "\n",
    "# 3. 因为大模型invoke调用时，需要传入函数的列表，所以需要将工具转换为函数\n",
    "functions = [convert_to_openai_function(t) for t in tools]\n",
    "\n",
    "\n",
    "# 4. 获取消息列表\n",
    "messages = [HumanMessage(content=\"随便生成一个txt文件移动到当前目录\")]\n",
    "\n",
    "# 5. 调用大模型(传入消息列表、工具的列表)\n",
    "response =  chat_model.invoke(\n",
    "    input=messages,\n",
    "    functions = functions,\n",
    ")\n",
    "\n",
    "# print(response)\n",
    "# 步骤1:分析下要调用哪个工具或函数\n",
    "if \"function_call\" in response.additional_kwargs:\n",
    "    tool_name =  response.additional_kwargs[\"function_call\"][\"name\"]\n",
    "    tool_args = json.loads(response.additional_kwargs[\"function_call\"][\"arguments\"])\n",
    "    print(f\"调用工具:{tool_name}\\n 参数:{tool_args}\")\n",
    "else:\n",
    "    print(f\"模型回复:{response.content}\")\n",
    "    \n",
    "# 步骤2: 调用对应的工具\n",
    "if \"move_file\" in response.additional_kwargs[\"function_call\"][\"name\"]:\n",
    "    tool = MoveFileTool()\n",
    "    result = tool.run(tool_args)\n",
    "    print(\"工具执行的结果:\",result)\n"
   ],
   "id": "e70da9aa2786fe73",
   "outputs": [
    {
     "name": "stdout",
     "output_type": "stream",
     "text": [
      "调用工具:move_file\n",
      " 参数:{'source_path': '/tmp/sample.txt', 'destination_path': './sample.txt'}\n",
      "工具执行的结果: Error: no such file or directory /tmp/sample.txt\n"
     ]
    }
   ],
   "execution_count": 5
  }
 ],
 "metadata": {
  "kernelspec": {
   "display_name": "Python 3",
   "language": "python",
   "name": "python3"
  },
  "language_info": {
   "codemirror_mode": {
    "name": "ipython",
    "version": 2
   },
   "file_extension": ".py",
   "mimetype": "text/x-python",
   "name": "python",
   "nbconvert_exporter": "python",
   "pygments_lexer": "ipython2",
   "version": "2.7.6"
  }
 },
 "nbformat": 4,
 "nbformat_minor": 5
}
