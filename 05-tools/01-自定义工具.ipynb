{
 "cells": [
  {
   "metadata": {},
   "cell_type": "markdown",
   "source": "# 1. 使用@tool装饰器定义工具",
   "id": "180ce99ff737f33"
  },
  {
   "metadata": {},
   "cell_type": "markdown",
   "source": "## 举例1:",
   "id": "867ee158acf13ba5"
  },
  {
   "metadata": {
    "ExecuteTime": {
     "end_time": "2025-10-12T13:15:36.711972Z",
     "start_time": "2025-10-12T13:15:36.701443Z"
    }
   },
   "cell_type": "code",
   "source": [
    "from re import search\n",
    "\n",
    "from langchain_core.tools import tool, StructuredTool\n",
    "from scripts.regsetup import description\n",
    "\n",
    "\n",
    "@tool\n",
    "def add_number(a:int,b:int) -> int:\n",
    "    \"\"\"计算两个整数的和\"\"\"\n",
    "    return a + b\n",
    "\n",
    "print(f\"name = {add_number.name}\")\n",
    "print(f\"args = {add_number.args}\")\n",
    "print(f\"description = {add_number.description}\")\n",
    "print(f\"return_direct = {add_number.return_direct}\")\n",
    "\n"
   ],
   "id": "197f1201f953729c",
   "outputs": [
    {
     "name": "stdout",
     "output_type": "stream",
     "text": [
      "name = add_number\n",
      "args = {'a': {'title': 'A', 'type': 'integer'}, 'b': {'title': 'B', 'type': 'integer'}}\n",
      "description = 计算两个整数的和\n",
      "return_direct = False\n"
     ]
    }
   ],
   "execution_count": 2
  },
  {
   "metadata": {},
   "cell_type": "markdown",
   "source": "## 举例2:",
   "id": "99e3349b5bb6fcd"
  },
  {
   "metadata": {
    "ExecuteTime": {
     "end_time": "2025-10-12T13:39:30.039905Z",
     "start_time": "2025-10-12T13:39:30.025879Z"
    }
   },
   "cell_type": "code",
   "source": [
    "from pydantic import Field, BaseModel\n",
    "from langchain_core.tools import tool\n",
    "\n",
    "\n",
    "class FieldInfo(BaseModel):\n",
    "    a:int = Field(description = \"第一个整型参数\")\n",
    "    b:int = Field(description=\"第二个整型参数\")\n",
    "    \n",
    "\n",
    "\n",
    "@tool(name_or_callable=\"add_two_number\",description=\"add two numbers\",return_direct=True,args_schema=FieldInfo)\n",
    "def add_number(a:int,b:int) -> int:\n",
    "    \"\"\"计算两个整数的和\"\"\"\n",
    "    return a + b\n",
    "\n",
    "print(f\"name = {add_number.name}\")\n",
    "print(f\"args = {add_number.args}\")\n",
    "print(f\"description = {add_number.description}\")\n",
    "print(f\"return_direct = {add_number.return_direct}\")\n",
    "\n"
   ],
   "id": "6824c858f3d021b5",
   "outputs": [
    {
     "name": "stdout",
     "output_type": "stream",
     "text": [
      "name = add_two_number\n",
      "args = {'a': {'description': '第一个整型参数', 'title': 'A', 'type': 'integer'}, 'b': {'description': '第二个整型参数', 'title': 'B', 'type': 'integer'}}\n",
      "description = add two numbers\n",
      "return_direct = True\n"
     ]
    }
   ],
   "execution_count": 5
  },
  {
   "metadata": {},
   "cell_type": "markdown",
   "source": "## 调用工具",
   "id": "3009eac33f60ad03"
  },
  {
   "metadata": {
    "ExecuteTime": {
     "end_time": "2025-10-12T13:36:38.191018Z",
     "start_time": "2025-10-12T13:36:38.173935Z"
    }
   },
   "cell_type": "code",
   "source": "add_number.invoke({\"a\":10,\"b\":20})",
   "id": "4ed07af325138e52",
   "outputs": [
    {
     "data": {
      "text/plain": [
       "30"
      ]
     },
     "execution_count": 4,
     "metadata": {},
     "output_type": "execute_result"
    }
   ],
   "execution_count": 4
  },
  {
   "metadata": {},
   "cell_type": "markdown",
   "source": "# 2. StructuredTool的from_function()的使用",
   "id": "9d8b81722dea37d5"
  },
  {
   "metadata": {},
   "cell_type": "markdown",
   "source": "## 举例1:",
   "id": "211fca60f57bc5f9"
  },
  {
   "metadata": {
    "ExecuteTime": {
     "end_time": "2025-10-12T13:56:19.084369Z",
     "start_time": "2025-10-12T13:56:19.076312Z"
    }
   },
   "cell_type": "code",
   "source": [
    "from  langchain_core. tools.structured import StructuredTool\n",
    "\n",
    "# 声明一个函数\n",
    "def search_google(query: str):\n",
    "    return \"最后查询的结果\"\n",
    "\n",
    "# 定义一个工具\n",
    "search01 =  StructuredTool.from_function(\n",
    "    func=search_google,\n",
    "    name=\"Search\",\n",
    "    description=\"查询google搜索引擎,并将结果返回\"\n",
    ")\n",
    "\n",
    "print(f\"name = {search01.name}\")\n",
    "print(f\"args = {search01.args}\")\n",
    "print(f\"description = {search01.description}\")\n",
    "print(f\"return_direct = {search01.return_direct}\")\n",
    "\n",
    "search01.invoke({\"query\":\"AI发展情况\"})"
   ],
   "id": "d4c81a850f048b28",
   "outputs": [
    {
     "name": "stdout",
     "output_type": "stream",
     "text": [
      "name = Search\n",
      "args = {'query': {'title': 'Query', 'type': 'string'}}\n",
      "description = 查询google搜索引擎,并将结果返回\n",
      "return_direct = False\n"
     ]
    },
    {
     "data": {
      "text/plain": [
       "'最后查询的结果'"
      ]
     },
     "execution_count": 11,
     "metadata": {},
     "output_type": "execute_result"
    }
   ],
   "execution_count": 11
  },
  {
   "metadata": {},
   "cell_type": "markdown",
   "source": "## 举例2:",
   "id": "c6ce44d843342769"
  },
  {
   "metadata": {
    "ExecuteTime": {
     "end_time": "2025-10-12T14:02:47.647482Z",
     "start_time": "2025-10-12T14:02:47.630888Z"
    }
   },
   "cell_type": "code",
   "source": [
    "from  langchain_core. tools.structured import StructuredTool\n",
    "\n",
    "\n",
    "class FieldInfo(BaseModel):\n",
    "    query:str = Field(description = \"要检索的关键词\")\n",
    "   \n",
    "    \n",
    "\n",
    "# 声明一个函数\n",
    "def search_google(query: str):\n",
    "    return \"最后查询的结果\"\n",
    "\n",
    "# 定义一个工具\n",
    "search01 =  StructuredTool.from_function(\n",
    "    func=search_google,\n",
    "    name=\"Search\",\n",
    "    description=\"查询google搜索引擎,并将结果返回\",\n",
    "    return_direct=True,\n",
    "    args_schema=FieldInfo\n",
    ")\n",
    "\n",
    "print(f\"name = {search01.name}\")\n",
    "print(f\"args = {search01.args}\")\n",
    "print(f\"description = {search01.description}\")\n",
    "print(f\"return_direct = {search01.return_direct}\")\n",
    "\n",
    "search01.invoke({\"query\":\"AI发展情况\"})\n"
   ],
   "id": "e3f3978f872a79d6",
   "outputs": [
    {
     "name": "stdout",
     "output_type": "stream",
     "text": [
      "name = Search\n",
      "args = {'query': {'description': '要检索的关键词', 'title': 'Query', 'type': 'string'}}\n",
      "description = 查询google搜索引擎,并将结果返回\n",
      "return_direct = True\n"
     ]
    },
    {
     "data": {
      "text/plain": [
       "'最后查询的结果'"
      ]
     },
     "execution_count": 14,
     "metadata": {},
     "output_type": "execute_result"
    }
   ],
   "execution_count": 14
  }
 ],
 "metadata": {
  "kernelspec": {
   "display_name": "Python 3",
   "language": "python",
   "name": "python3"
  },
  "language_info": {
   "codemirror_mode": {
    "name": "ipython",
    "version": 2
   },
   "file_extension": ".py",
   "mimetype": "text/x-python",
   "name": "python",
   "nbconvert_exporter": "python",
   "pygments_lexer": "ipython2",
   "version": "2.7.6"
  }
 },
 "nbformat": 4,
 "nbformat_minor": 5
}
