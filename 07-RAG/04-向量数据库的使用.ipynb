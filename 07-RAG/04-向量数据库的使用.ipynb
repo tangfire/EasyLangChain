{
 "cells": [
  {
   "metadata": {},
   "cell_type": "markdown",
   "source": "# 1. 数据的存储",
   "id": "4900a0bea2266557"
  },
  {
   "metadata": {},
   "cell_type": "markdown",
   "source": "## 举例1: 从TXT文档中加载数据,向量化后存储到Chroma数据库",
   "id": "79bf3d9130b0581f"
  },
  {
   "metadata": {
    "ExecuteTime": {
     "end_time": "2025-10-21T13:41:40.247302Z",
     "start_time": "2025-10-21T13:41:09.612998Z"
    }
   },
   "cell_type": "code",
   "source": [
    "from langchain_chroma import Chroma\n",
    "from langchain_community.document_loaders import TextLoader\n",
    "from langchain_openai import OpenAIEmbeddings\n",
    "from langchain_text_splitters import CharacterTextSplitter\n",
    "import os\n",
    "import dotenv\n",
    "from openai import api_key, base_url\n",
    "\n",
    "dotenv.load_dotenv()\n",
    "\n",
    "# 步骤1: 创建一个TextLoader的实例,并将指定的文档加载\n",
    "loader = TextLoader(\n",
    "    file_path=\"./asset/load/09-ai1.txt\",\n",
    "    encoding=\"utf-8\",\n",
    ")\n",
    "\n",
    "docs = loader.load()\n",
    "\n",
    "# 步骤2: 创建文本拆分器,并拆分文档\n",
    "text_splitter = CharacterTextSplitter(\n",
    "    chunk_size=1000,\n",
    "    chunk_overlap=100,\n",
    ")\n",
    "\n",
    "splitter_docs =  text_splitter.split_documents(docs)\n",
    "\n",
    "# print(len(splitter_docs))\n",
    "\n",
    "# 步骤3: 创建嵌入模型\n",
    "embedding_model = OpenAIEmbeddings(\n",
    "    model=\"text-embedding-ada-002\",\n",
    "    api_key=os.getenv(\"ARK_API_KEY\"),\n",
    "    base_url=os.getenv(\"BASE_URL\"),\n",
    ")\n",
    "\n",
    "# 步骤4: 将文档及嵌入模型传入到Chroma相关的结构中,进行数据的存储\n",
    "db = Chroma.from_documents(\n",
    "    documents=splitter_docs,\n",
    "    embedding=embedding_model,\n",
    ")\n"
   ],
   "id": "eb506125b5be007c",
   "outputs": [
    {
     "name": "stderr",
     "output_type": "stream",
     "text": [
      "C:\\Users\\Admin\\.conda\\envs\\py310\\lib\\site-packages\\tqdm\\auto.py:21: TqdmWarning: IProgress not found. Please update jupyter and ipywidgets. See https://ipywidgets.readthedocs.io/en/stable/user_install.html\n",
      "  from .autonotebook import tqdm as notebook_tqdm\n"
     ]
    }
   ],
   "execution_count": 2
  },
  {
   "metadata": {},
   "cell_type": "markdown",
   "source": [
    "1. 当前的数据到底存在哪里了?\n",
    "如果我们使用的from_documents()中没有显式的指明存储位置的话,则将当前的数据存储在内存中,并缓存起来。如果需要指明具体的存储位置,需要设置参数persist_directory的值。"
   ],
   "id": "d01a71ab68cfd5d2"
  },
  {
   "metadata": {
    "ExecuteTime": {
     "end_time": "2025-10-21T13:40:40.626176Z",
     "start_time": "2025-10-21T13:40:40.269988Z"
    }
   },
   "cell_type": "code",
   "source": [
    "db1 = Chroma.from_documents(\n",
    "    documents=splitter_docs,\n",
    "    embedding=embedding_model,\n",
    "    persist_directory=\"./asset/chroma-1\"\n",
    ")"
   ],
   "id": "94b53628088399a3",
   "outputs": [
    {
     "ename": "NameError",
     "evalue": "name 'Chroma' is not defined",
     "output_type": "error",
     "traceback": [
      "\u001B[1;31m---------------------------------------------------------------------------\u001B[0m",
      "\u001B[1;31mNameError\u001B[0m                                 Traceback (most recent call last)",
      "Cell \u001B[1;32mIn[1], line 1\u001B[0m\n\u001B[1;32m----> 1\u001B[0m db1 \u001B[38;5;241m=\u001B[39m \u001B[43mChroma\u001B[49m\u001B[38;5;241m.\u001B[39mfrom_documents(\n\u001B[0;32m      2\u001B[0m     documents\u001B[38;5;241m=\u001B[39msplitter_docs,\n\u001B[0;32m      3\u001B[0m     embedding\u001B[38;5;241m=\u001B[39membedding_model,\n\u001B[0;32m      4\u001B[0m     persist_directory\u001B[38;5;241m=\u001B[39m\u001B[38;5;124m\"\u001B[39m\u001B[38;5;124m./asset/chroma-1\u001B[39m\u001B[38;5;124m\"\u001B[39m\n\u001B[0;32m      5\u001B[0m )\n",
      "\u001B[1;31mNameError\u001B[0m: name 'Chroma' is not defined"
     ]
    }
   ],
   "execution_count": 1
  },
  {
   "metadata": {},
   "cell_type": "markdown",
   "source": "2. 需要明确,在向量数据库中,不仅存储了数据(或文档)的向量,而且还存储了数据(或文档)本身。",
   "id": "11ae14a71e4e1f97"
  },
  {
   "metadata": {},
   "cell_type": "markdown",
   "source": "演示一下: 检索的需求",
   "id": "55399c008df47c4"
  },
  {
   "metadata": {
    "ExecuteTime": {
     "end_time": "2025-10-21T13:47:50.507082Z",
     "start_time": "2025-10-21T13:47:49.653272Z"
    }
   },
   "cell_type": "code",
   "source": [
    "query = \"人工智能的核心技术有哪些呢?\"\n",
    "\n",
    "docs = db.similarity_search(query)\n",
    "\n",
    "print(docs[0].page_content)"
   ],
   "id": "f47747d0a776bea",
   "outputs": [
    {
     "name": "stdout",
     "output_type": "stream",
     "text": [
      "3. 人工智能的核心技术\n",
      "3.1 机器学习\n",
      "机器学习是人工智能的核心技术之一，通过算法使计算机从数据中学习并做出决策。常见的机器学习算法包括监督学习、无监督学习和强化学习。监督学习通过标记数据进行训练，无监督学习则从未标记数据中寻找模式，强化学习则通过与环境交互来优化决策。\n",
      "3.2 深度学习\n",
      "深度学习是机器学习的一个子领域，通过多层神经网络进行特征提取和模式识别。深度学习在图像识别、自然语言处理、语音识别等领域取得了显著成果。常见的深度学习模型包括卷积神经网络（CNN）、循环神经网络（RNN）和长短期记忆网络（LSTM）。\n",
      "3.3 自然语言处理\n",
      "自然语言处理（NLP）是人工智能的一个重要分支，致力于使计算机能够理解和生成人类语言。NLP技术广泛应用于机器翻译、情感分析、文本分类等领域。近年来，基于深度学习的NLP模型（如BERT、GPT）在语言理解任务中取得了突破性进展。\n",
      "3.4 计算机视觉\n",
      "计算机视觉是人工智能的另一个重要分支，致力于使计算机能够理解和处理图像和视频。计算机视觉技术广泛应用于图像识别、目标检测、人脸识别等领域。深度学习模型（如CNN）在计算机视觉任务中取得了显著成果。\n",
      "\n",
      "4. 人工智能的应用领域\n",
      "4.1 医疗健康\n",
      "人工智能在医疗健康领域的应用包括疾病诊断、药物研发、个性化医疗等。通过分析医学影像和患者数据，人工智能可以帮助医生更准确地诊断疾病，提高治疗效果。\n",
      "4.2 金融\n",
      "人工智能在金融领域的应用包括风险评估、欺诈检测、算法交易等。通过分析市场数据和交易记录，人工智能可以帮助金融机构做出更明智的决策，提高运营效率。\n",
      "4.3 教育\n",
      "人工智能在教育领域的应用包括个性化学习、智能辅导、自动评分等。通过分析学生的学习数据，人工智能可以为学生提供个性化的学习建议，提高学习效果。\n",
      "4.4 交通\n",
      "人工智能在交通领域的应用包括自动驾驶、交通管理、智能导航等。通过分析交通数据和路况信息，人工智能可以帮助优化交通流量，提高交通安全。\n"
     ]
    }
   ],
   "execution_count": 3
  },
  {
   "metadata": {},
   "cell_type": "markdown",
   "source": "## 举例2:",
   "id": "8ed59fdff39b071c"
  },
  {
   "metadata": {
    "ExecuteTime": {
     "end_time": "2025-10-21T13:54:08.924234Z",
     "start_time": "2025-10-21T13:54:07.624743Z"
    }
   },
   "cell_type": "code",
   "source": [
    "from langchain.text_splitter import CharacterTextSplitter\n",
    "from langchain_community.document_loaders import CSVLoader\n",
    "from langchain_openai import OpenAIEmbeddings\n",
    "from langchain_chroma import Chroma\n",
    "\n",
    "# 5.4.2 数据的检索\n",
    "# 举例：一个包含构建Chroma向量数据库以及向量检索的代码\n",
    "\n",
    "# 前置代码：\n",
    "import os\n",
    "import dotenv\n",
    "\n",
    "dotenv.load_dotenv()\n",
    "\n",
    "\n",
    "# 获取嵌入模型\n",
    "embeddings = OpenAIEmbeddings(\n",
    "    model=\"text-embedding-ada-002\",\n",
    "    api_key=os.getenv(\"ARK_API_KEY\"),\n",
    "    base_url=os.getenv(\"BASE_URL\"),\n",
    "                              )\n",
    "\n",
    "# 加载文档并拆分（第1次拆分）\n",
    "loader = CSVLoader(\"./asset/load/03-load.csv\", encoding='utf-8')\n",
    "pages = loader.load_and_split()\n",
    "# print(len(pages)) # 4\n",
    "\n",
    "# 文本拆分（第2次拆分）\n",
    "text_spliter = CharacterTextSplitter.from_tiktoken_encoder(chunk_size=500)\n",
    "docs = text_spliter.split_documents(pages)\n",
    "\n",
    "# 向量存储\n",
    "db_path = './asset/chroma-2'\n",
    "db = Chroma.from_documents(docs, embeddings, persist_directory=db_path)"
   ],
   "id": "9c9c184d25435b1f",
   "outputs": [],
   "execution_count": 5
  },
  {
   "metadata": {},
   "cell_type": "markdown",
   "source": "# 2. 数据的检索",
   "id": "19a82ba4eb7be00c"
  },
  {
   "metadata": {
    "ExecuteTime": {
     "end_time": "2025-10-21T14:31:27.121187Z",
     "start_time": "2025-10-21T14:31:16.667531Z"
    }
   },
   "cell_type": "code",
   "source": [
    "# 1. 导入相关依赖\n",
    "from langchain_chroma import Chroma\n",
    "from langchain_core.documents import Document\n",
    "from langchain_openai import OpenAIEmbeddings\n",
    "import os\n",
    "import dotenv\n",
    "\n",
    "dotenv.load_dotenv()\n",
    "\n",
    "# 2. 定义文档\n",
    "raw_documents = [\n",
    "    Document(\n",
    "        page_content=\"葡萄是一种常见的水果，属于葡萄科葡萄属植物。它的果实呈圆形或椭圆形，颜色有绿色、紫色、红色等多种。葡萄富含维生素C和抗氧化物质，可以直接食用或酿造成葡萄酒。\",\n",
    "        metadata={\"source\": \"水果\", \"type\": \"植物\"}\n",
    "    ),\n",
    "    Document(\n",
    "        page_content=\"白菜是十字花科蔬菜，原产于中国北方。它的叶片层层包裹形成紧密的球状，口感清脆微甜。白菜富含膳食纤维和维生素K，常用于制作泡菜、炒菜或煮汤。\",\n",
    "        metadata={\"source\": \"蔬菜\", \"type\": \"植物\"}\n",
    "    ),\n",
    "    Document(\n",
    "        page_content=\"狗是人类最早驯化的动物之一，属于犬科。它们具有高度社会性，能理解人类情绪，常被用作宠物、导盲犬或警犬。不同品种的狗在体型、毛色和性格上有很大差异。\",\n",
    "        metadata={\"source\": \"动物\", \"type\": \"哺乳动物\"}\n",
    "    ),\n",
    "    Document(\n",
    "        page_content=\"猫是小型肉食性哺乳动物，性格独立但也能与人类建立亲密关系。它们夜视能力极强，擅长捕猎老鼠。家猫的品种包括波斯猫、暹罗猫等，毛色和花纹多样。\",\n",
    "        metadata={\"source\": \"动物\", \"type\": \"哺乳动物\"}\n",
    "    ),\n",
    "    Document(\n",
    "        page_content=\"人类是地球上最具智慧的生物，属于灵长目人科。现代人类（智人）拥有高度发达的大脑，创造了语言、工具和文明。人类的平均寿命约70-80年，分布在全球各地。\",\n",
    "        metadata={\"source\": \"生物\", \"type\": \"灵长类\"}\n",
    "    ),\n",
    "    Document(\n",
    "        page_content=\"太阳是太阳系的中心恒星，直径约139万公里，主要由氢和氦组成。它通过核聚变反应产生能量，为地球提供光和热。太阳活动周期约为11年，会影响地球气候。\",\n",
    "        metadata={\"source\": \"天文\", \"type\": \"恒星\"}\n",
    "    ),\n",
    "    Document(\n",
    "        page_content=\"长城是中国古代的军事防御工程，总长度超过2万公里。它始建于春秋战国时期，秦朝连接各段，明朝大规模重修。长城是世界文化遗产和人类建筑奇迹。\",\n",
    "        metadata={\"source\": \"历史\", \"type\": \"建筑\"}\n",
    "    ),\n",
    "    Document(\n",
    "        page_content=\"量子力学是研究微观粒子运动规律的物理学分支。它提出了波粒二象性、测不准原理等概念，彻底改变了人类对物质世界的认知。量子计算机正是基于这一理论发展而来。\",\n",
    "        metadata={\"source\": \"物理\", \"type\": \"科学\"}\n",
    "    ),\n",
    "    Document(\n",
    "        page_content=\"《红楼梦》是中国古典文学四大名著之一，作者曹雪芹。小说以贾、史、王、薛四大家族的兴衰为背景，描绘了贾宝玉与林黛玉的爱情悲剧，反映了封建社会的种种矛盾。\",\n",
    "        metadata={\"source\": \"文学\", \"type\": \"小说\"}\n",
    "    ),\n",
    "    Document(\n",
    "        page_content=\"新冠病毒（SARS-CoV-2）是一种可引起呼吸道疾病的冠状病毒。它通过飞沫传播，主要症状包括发热、咳嗽、乏力。疫苗和戴口罩是有效的预防措施。\",\n",
    "        metadata={\"source\": \"医学\", \"type\": \"病毒\"}\n",
    "    )\n",
    "]\n",
    "\n",
    "# 3. 创建嵌入模型\n",
    "embedding = OpenAIEmbeddings(\n",
    "    model=\"text-embedding-ada-002\",\n",
    "    api_key=os.getenv(\"ARK_API_KEY\"),\n",
    "    base_url=os.getenv(\"BASE_URL\"),\n",
    ")\n",
    "\n",
    "# 4. 创建向量数据库\n",
    "db = Chroma.from_documents(\n",
    "    documents=raw_documents,\n",
    "    embedding=embedding,\n",
    "    persist_directory=\"./asset/chroma-3\",\n",
    ")\n",
    "\n"
   ],
   "id": "503dd37eefeeca10",
   "outputs": [
    {
     "name": "stderr",
     "output_type": "stream",
     "text": [
      "C:\\Users\\Admin\\.conda\\envs\\py310\\lib\\site-packages\\tqdm\\auto.py:21: TqdmWarning: IProgress not found. Please update jupyter and ipywidgets. See https://ipywidgets.readthedocs.io/en/stable/user_install.html\n",
      "  from .autonotebook import tqdm as notebook_tqdm\n"
     ]
    }
   ],
   "execution_count": 2
  },
  {
   "metadata": {},
   "cell_type": "markdown",
   "source": "## 1. 相似度检索(similarity_search)",
   "id": "d3793e18873890c3"
  },
  {
   "metadata": {
    "ExecuteTime": {
     "end_time": "2025-10-21T14:01:18.465277Z",
     "start_time": "2025-10-21T14:01:17.705859Z"
    }
   },
   "cell_type": "code",
   "source": [
    "# 5. 检索示例（返回前3个最相关结果）\n",
    "query = \"哺乳动物\"\n",
    "docs = db.similarity_search(query, k=3)  # k=3表示返回3个最相关文档\n",
    "\n",
    "print(f\"查询: '{query}' 的结果:\")\n",
    "for i, doc in enumerate(docs, 1):\n",
    "    print(f\"\\n结果 {i}:\")\n",
    "    print(f\"内容: {doc.page_content}\")\n",
    "    print(f\"元数据: {doc.metadata}\")"
   ],
   "id": "99f808b7f60f991a",
   "outputs": [
    {
     "name": "stdout",
     "output_type": "stream",
     "text": [
      "查询: '哺乳动物' 的结果:\n",
      "\n",
      "结果 1:\n",
      "内容: 猫是小型肉食性哺乳动物，性格独立但也能与人类建立亲密关系。它们夜视能力极强，擅长捕猎老鼠。家猫的品种包括波斯猫、暹罗猫等，毛色和花纹多样。\n",
      "元数据: {'type': '哺乳动物', 'source': '动物'}\n",
      "\n",
      "结果 2:\n",
      "内容: 狗是人类最早驯化的动物之一，属于犬科。它们具有高度社会性，能理解人类情绪，常被用作宠物、导盲犬或警犬。不同品种的狗在体型、毛色和性格上有很大差异。\n",
      "元数据: {'source': '动物', 'type': '哺乳动物'}\n",
      "\n",
      "结果 3:\n",
      "内容: 人类是地球上最具智慧的生物，属于灵长目人科。现代人类（智人）拥有高度发达的大脑，创造了语言、工具和文明。人类的平均寿命约70-80年，分布在全球各地。\n",
      "元数据: {'source': '生物', 'type': '灵长类'}\n"
     ]
    }
   ],
   "execution_count": 7
  },
  {
   "metadata": {},
   "cell_type": "markdown",
   "source": "## 2. 支持直接对问题向量查询(similarity_search_by_vector)",
   "id": "2f13dc6c478bcdf6"
  },
  {
   "metadata": {
    "ExecuteTime": {
     "end_time": "2025-10-21T14:05:17.097310Z",
     "start_time": "2025-10-21T14:05:16.358792Z"
    }
   },
   "cell_type": "code",
   "source": [
    "query = \"哺乳动物\"\n",
    "embedding_vector = embedding.embed_query(query)\n",
    "docs = db.similarity_search_by_vector(embedding_vector, k=3)\n",
    "\n",
    "print(f\"查询: '{query}' 的结果:\")\n",
    "for i, doc in enumerate(docs, 1):\n",
    "    print(f\"\\n结果 {i}:\")\n",
    "    print(f\"内容: {doc.page_content}\")\n",
    "    print(f\"元数据: {doc.metadata}\")"
   ],
   "id": "3f33daa91b05876b",
   "outputs": [
    {
     "name": "stdout",
     "output_type": "stream",
     "text": [
      "查询: '哺乳动物' 的结果:\n",
      "\n",
      "结果 1:\n",
      "内容: 猫是小型肉食性哺乳动物，性格独立但也能与人类建立亲密关系。它们夜视能力极强，擅长捕猎老鼠。家猫的品种包括波斯猫、暹罗猫等，毛色和花纹多样。\n",
      "元数据: {'source': '动物', 'type': '哺乳动物'}\n",
      "\n",
      "结果 2:\n",
      "内容: 狗是人类最早驯化的动物之一，属于犬科。它们具有高度社会性，能理解人类情绪，常被用作宠物、导盲犬或警犬。不同品种的狗在体型、毛色和性格上有很大差异。\n",
      "元数据: {'source': '动物', 'type': '哺乳动物'}\n",
      "\n",
      "结果 3:\n",
      "内容: 人类是地球上最具智慧的生物，属于灵长目人科。现代人类（智人）拥有高度发达的大脑，创造了语言、工具和文明。人类的平均寿命约70-80年，分布在全球各地。\n",
      "元数据: {'type': '灵长类', 'source': '生物'}\n"
     ]
    }
   ],
   "execution_count": 8
  },
  {
   "metadata": {},
   "cell_type": "markdown",
   "source": "## 3. 相似性检索，支持过滤元数据（filter）",
   "id": "a0c6695d3640c1a"
  },
  {
   "metadata": {
    "ExecuteTime": {
     "end_time": "2025-10-21T14:06:34.982082Z",
     "start_time": "2025-10-21T14:06:34.209319Z"
    }
   },
   "cell_type": "code",
   "source": [
    "query = \"哺乳动物\"\n",
    "docs = db.similarity_search(\n",
    "    query=query,\n",
    "    k=3,\n",
    "    filter={\"source\": \"动物\"}\n",
    ")\n",
    "\n",
    "for i, doc in enumerate(docs, 1):\n",
    "    print(f\"\\n结果 {i}:\")\n",
    "    print(f\"内容: {doc.page_content}\")\n",
    "    print(f\"元数据: {doc.metadata}\")"
   ],
   "id": "4e2ccd2b9d7034a4",
   "outputs": [
    {
     "name": "stdout",
     "output_type": "stream",
     "text": [
      "\n",
      "结果 1:\n",
      "内容: 猫是小型肉食性哺乳动物，性格独立但也能与人类建立亲密关系。它们夜视能力极强，擅长捕猎老鼠。家猫的品种包括波斯猫、暹罗猫等，毛色和花纹多样。\n",
      "元数据: {'source': '动物', 'type': '哺乳动物'}\n",
      "\n",
      "结果 2:\n",
      "内容: 狗是人类最早驯化的动物之一，属于犬科。它们具有高度社会性，能理解人类情绪，常被用作宠物、导盲犬或警犬。不同品种的狗在体型、毛色和性格上有很大差异。\n",
      "元数据: {'source': '动物', 'type': '哺乳动物'}\n"
     ]
    }
   ],
   "execution_count": 9
  },
  {
   "metadata": {},
   "cell_type": "markdown",
   "source": "## 4. 通过L2距离分数进行搜索(similarity_search_with_score)",
   "id": "8ad050b94d499423"
  },
  {
   "metadata": {},
   "cell_type": "markdown",
   "source": "### 分数值越小，检索到的文档越和问题相似。分值取值范围：[0，正无穷]",
   "id": "468a57a242e21064"
  },
  {
   "metadata": {
    "ExecuteTime": {
     "end_time": "2025-10-21T14:14:49.860618Z",
     "start_time": "2025-10-21T14:14:48.991854Z"
    }
   },
   "cell_type": "code",
   "source": [
    "docs = db.similarity_search_with_score(\"量子力学是什么?\")\n",
    "\n",
    "for doc, score in docs:\n",
    "    print(f\" [L2距离得分={score:.3f}] {doc.page_content} [{doc.metadata}]\")"
   ],
   "id": "b94280aeaf06d756",
   "outputs": [
    {
     "name": "stdout",
     "output_type": "stream",
     "text": [
      " [L2距离得分=0.182] 量子力学是研究微观粒子运动规律的物理学分支。它提出了波粒二象性、测不准原理等概念，彻底改变了人类对物质世界的认知。量子计算机正是基于这一理论发展而来。 [{'type': '科学', 'source': '物理'}]\n",
      " [L2距离得分=0.447] 太阳是太阳系的中心恒星，直径约139万公里，主要由氢和氦组成。它通过核聚变反应产生能量，为地球提供光和热。太阳活动周期约为11年，会影响地球气候。 [{'type': '恒星', 'source': '天文'}]\n",
      " [L2距离得分=0.463] 人类是地球上最具智慧的生物，属于灵长目人科。现代人类（智人）拥有高度发达的大脑，创造了语言、工具和文明。人类的平均寿命约70-80年，分布在全球各地。 [{'source': '生物', 'type': '灵长类'}]\n",
      " [L2距离得分=0.488] 新冠病毒（SARS-CoV-2）是一种可引起呼吸道疾病的冠状病毒。它通过飞沫传播，主要症状包括发热、咳嗽、乏力。疫苗和戴口罩是有效的预防措施。 [{'source': '医学', 'type': '病毒'}]\n"
     ]
    }
   ],
   "execution_count": 10
  },
  {
   "metadata": {},
   "cell_type": "markdown",
   "source": "## 5. 通过余弦相似度分数进行搜索(_similarity_search_with_relevance_scores)",
   "id": "981e1394bbd6448a"
  },
  {
   "metadata": {},
   "cell_type": "markdown",
   "source": "### 分数值越接近1（上限），检索到的文档越和问题相似。",
   "id": "e37efe133c012ef"
  },
  {
   "metadata": {
    "ExecuteTime": {
     "end_time": "2025-10-21T14:17:11.815100Z",
     "start_time": "2025-10-21T14:17:10.884908Z"
    }
   },
   "cell_type": "code",
   "source": [
    "docs = db._similarity_search_with_relevance_scores(\n",
    "\"量子力学是什么?\"\n",
    ")\n",
    "for doc, score in docs:\n",
    "    print(f\"* [余弦相似度得分={score:.3f}] {doc.page_content} [{doc.metadata}]\")"
   ],
   "id": "84afe757e6f54129",
   "outputs": [
    {
     "name": "stdout",
     "output_type": "stream",
     "text": [
      "* [余弦相似度得分=0.871] 量子力学是研究微观粒子运动规律的物理学分支。它提出了波粒二象性、测不准原理等概念，彻底改变了人类对物质世界的认知。量子计算机正是基于这一理论发展而来。 [{'source': '物理', 'type': '科学'}]\n",
      "* [余弦相似度得分=0.684] 太阳是太阳系的中心恒星，直径约139万公里，主要由氢和氦组成。它通过核聚变反应产生能量，为地球提供光和热。太阳活动周期约为11年，会影响地球气候。 [{'source': '天文', 'type': '恒星'}]\n",
      "* [余弦相似度得分=0.672] 人类是地球上最具智慧的生物，属于灵长目人科。现代人类（智人）拥有高度发达的大脑，创造了语言、工具和文明。人类的平均寿命约70-80年，分布在全球各地。 [{'type': '灵长类', 'source': '生物'}]\n",
      "* [余弦相似度得分=0.655] 新冠病毒（SARS-CoV-2）是一种可引起呼吸道疾病的冠状病毒。它通过飞沫传播，主要症状包括发热、咳嗽、乏力。疫苗和戴口罩是有效的预防措施。 [{'type': '病毒', 'source': '医学'}]\n"
     ]
    }
   ],
   "execution_count": 11
  },
  {
   "metadata": {},
   "cell_type": "markdown",
   "source": "## 6. MMR(最大边际相关性，max_marginal_relevance_search)",
   "id": "f9afc7c4b33b76a"
  },
  {
   "metadata": {},
   "cell_type": "markdown",
   "source": [
    "lambda_mult 参数值介于 0 到 1 之间，用于确定结果之间的多样性程度，其中 0 对应最大\n",
    "多样性，1 对应最小多样性。默认值为 0.5。"
   ],
   "id": "baa1612d2e5cfb5a"
  },
  {
   "metadata": {
    "jupyter": {
     "is_executing": true
    },
    "ExecuteTime": {
     "end_time": "2025-10-21T14:31:43.082088500Z",
     "start_time": "2025-10-21T14:31:27.128044Z"
    }
   },
   "cell_type": "code",
   "source": [
    "docs = db.max_marginal_relevance_search(\n",
    "    query=\"量子力学是什么\",\n",
    "    lambda_mult=0.8  # 侧重相似性\n",
    ")\n",
    "\n",
    "print(\"🔍 关于【量子力学是什么】的搜索结果：\")\n",
    "print(\"=\" * 50)\n",
    "for i, doc in enumerate(docs):\n",
    "    print(f\"\\n📖 结果 {i+1}:\")\n",
    "    print(f\"📌 内容: {doc.page_content}\")\n",
    "    print(f\"🏷 标签: {', '.join(f'{k}={v}' for k, v in doc.metadata.items())}\")"
   ],
   "id": "6e42cb454657dd10",
   "outputs": [],
   "execution_count": null
  }
 ],
 "metadata": {
  "kernelspec": {
   "display_name": "Python 3",
   "language": "python",
   "name": "python3"
  },
  "language_info": {
   "codemirror_mode": {
    "name": "ipython",
    "version": 2
   },
   "file_extension": ".py",
   "mimetype": "text/x-python",
   "name": "python",
   "nbconvert_exporter": "python",
   "pygments_lexer": "ipython2",
   "version": "2.7.6"
  }
 },
 "nbformat": 4,
 "nbformat_minor": 5
}
