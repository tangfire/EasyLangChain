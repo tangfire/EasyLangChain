{
 "cells": [
  {
   "metadata": {},
   "cell_type": "markdown",
   "source": "# 1. 单工具的使用",
   "id": "1dd6a30454cf13c4"
  },
  {
   "metadata": {},
   "cell_type": "markdown",
   "source": "## 1.1 使用ReAct模型",
   "id": "d2240f13f94b0ab1"
  },
  {
   "metadata": {
    "ExecuteTime": {
     "end_time": "2025-10-16T14:27:15.927763Z",
     "start_time": "2025-10-16T14:26:58.539239Z"
    }
   },
   "cell_type": "code",
   "source": [
    "from langchain.agents import AgentType, initialize_agent\n",
    "import os\n",
    "from langchain_openai import ChatOpenAI\n",
    "import dotenv\n",
    "from langchain_community.tools import TavilySearchResults\n",
    "from langchain_core.tools import StructuredTool\n",
    "from openai import max_retries, api_key\n",
    "from langchain.tools import Tool\n",
    "\n",
    "dotenv.load_dotenv()\n",
    "\n",
    "\n",
    "# 获取Tavily搜索工具的实例\n",
    "search =  TavilySearchResults(max_retries=3,api_key=os.getenv(\"TAVILY_API_KEY\"))\n",
    "\n",
    "# 获取一个搜索的工具\n",
    "# 方式1:\n",
    "# search_tool =  StructuredTool.from_function(\n",
    "#     func=search.run,\n",
    "#     name=\"Search\",\n",
    "#     description=\"用于检索互联网上的信息\",\n",
    "# )\n",
    "\n",
    "# 方式2: 使用Tool\n",
    "search_tool =  Tool(\n",
    "    func=search.run,\n",
    "    name=\"Search\",\n",
    "    description=\"用于检索互联网上的信息\",\n",
    ")\n",
    "\n",
    "\n",
    "# 获取大语言模型\n",
    "llm = ChatOpenAI(\n",
    "    model_name = os.getenv(\"MODEL\"),\n",
    "    api_key = os.getenv(\"ARK_API_KEY\"),\n",
    "    base_url = os.getenv(\"BASE_URL\"),\n",
    "    temperature = 0\n",
    ")\n",
    "\n",
    "# 获取Agent的实例\n",
    "agent =  AgentType.ZERO_SHOT_REACT_DESCRIPTION\n",
    "\n",
    "# 获取AgentExecutor的实例\n",
    "agent_executor =  initialize_agent(\n",
    "    tools= [search_tool],\n",
    "    llm=llm,\n",
    "    agent=agent,\n",
    "    verbose=True,\n",
    ")\n",
    "\n",
    "\n",
    "# 通过AgentExecutor调用invoke(),并得到响应\n",
    "result =  agent_executor.invoke(\"查询汕尾今天的天气情况\")\n",
    "\n",
    "# 处理响应数据\n",
    "print(result)\n"
   ],
   "id": "5eaf62b8fa9c8b75",
   "outputs": [
    {
     "name": "stderr",
     "output_type": "stream",
     "text": [
      "C:\\Users\\Admin\\.conda\\envs\\py310\\lib\\site-packages\\tqdm\\auto.py:21: TqdmWarning: IProgress not found. Please update jupyter and ipywidgets. See https://ipywidgets.readthedocs.io/en/stable/user_install.html\n",
      "  from .autonotebook import tqdm as notebook_tqdm\n",
      "C:\\Users\\Admin\\AppData\\Local\\Temp\\ipykernel_9144\\2333231735.py:14: LangChainDeprecationWarning: The class `TavilySearchResults` was deprecated in LangChain 0.3.25 and will be removed in 1.0. An updated version of the class exists in the :class:`~langchain-tavily package and should be used instead. To use it run `pip install -U :class:`~langchain-tavily` and import as `from :class:`~langchain_tavily import TavilySearch``.\n",
      "  search =  TavilySearchResults(max_retries=3,api_key=os.getenv(\"TAVILY_API_KEY\"))\n",
      "C:\\Users\\Admin\\AppData\\Local\\Temp\\ipykernel_9144\\2333231735.py:44: LangChainDeprecationWarning: LangChain agents will continue to be supported, but it is recommended for new use cases to be built with LangGraph. LangGraph offers a more flexible and full-featured framework for building agents, including support for tool-calling, persistence of state, and human-in-the-loop workflows. For details, refer to the `LangGraph documentation <https://langchain-ai.github.io/langgraph/>`_ as well as guides for `Migrating from AgentExecutor <https://python.langchain.com/docs/how_to/migrate_agent/>`_ and LangGraph's `Pre-built ReAct agent <https://langchain-ai.github.io/langgraph/how-tos/create-react-agent/>`_.\n",
      "  agent_executor =  initialize_agent(\n"
     ]
    },
    {
     "name": "stdout",
     "output_type": "stream",
     "text": [
      "\n",
      "\n",
      "\u001B[1m> Entering new AgentExecutor chain...\u001B[0m\n",
      "\u001B[32;1m\u001B[1;3m我需要查找汕尾今天的天气情况。  \n",
      "Action: Search  \n",
      "Action Input: '汕尾 今天的天气情况'  \u001B[0m\n",
      "Observation: \u001B[36;1m\u001B[1;3m[{'title': '10月16日汕尾天气早知道 - 新浪', 'url': 'https://zx.sina.cn/push/weather/2021-10-16/detail-iktzqtyu1714094.d.html', 'content': '中国天气网讯今天是10月16日星期六，一起来看天气。 今晨6时，汕尾晴，气温24℃，东北风3-4级，相对湿度87%。 预计，今天白天多云，最高气温29℃，微风，今天夜间', 'score': 0.8479807}, {'title': '汕尾天气预报,汕尾7天天气预报,汕尾15天天气预报,汕尾天气查询', 'url': 'https://www.weather.com.cn/weather/101282101.shtml', 'content': '天空蔚蓝\\n  可见透彻蓝天，或有蓝天白云美景。\\n 天空淡蓝\\n  天空不够清澈，以浅蓝色为主。\\n 天空阴沉\\n  阴天或有雨雪，天空灰暗。\\n 天空灰霾\\n  出现霾或沙尘，天空灰蒙浑浊。\\n\\n11时14时17时20时23时02时05时08时\\n\\n31℃32℃30℃28℃27℃26℃26℃27℃\\n\\n东风东南风东北风东北风东北风东北风东风东风\\n\\n<3级<3级<3级<3级<3级<3级<3级<3级\\n\\n 少发\\n  感冒指数\\n\\n  感冒机率较低，避免长期处于空调屋中。\\n 较不宜\\n  运动指数\\n\\n  有降水，推荐您在室内进行休闲运动。\\n 不易发\\n  过敏指数\\n\\n  除特殊体质，无需担心过敏问题。\\n 炎热\\n  穿衣指数\\n\\n  建议穿短衫、短裤等清凉夏季服装。)\\n 不宜\\n  洗车指数\\n\\n  有雨，雨水和泥水会弄脏爱车。\\n 最弱\\n  紫外线指数\\n\\n  辐射弱，涂擦SPF8-12防晒护肤品。\\n\\n 少发\\n  感冒指数\\n\\n  感冒机率较低，避免长期处于空调屋中。\\n 较不宜\\n  运动指数\\n\\n  有降水，推荐您在室内进行休闲运动。\\n 不易发\\n  过敏指数\\n\\n  除特殊体质，无需担心过敏问题。\\n 热\\n  穿衣指数 [...] 首页\\n预报\\n预警\\n雷达\\n云图\\n天气地图\\n专业产品\\n资讯\\n视频\\n节气\\n我的天空\\n\\n全国>\\n广东\\n>\\n汕尾> 城区\\n\\n07:30更新 | 数据来源 中央气象台\\n\\n 今天\\n 7天\\n 8-15天\\n 40天\\n 雷达图\\n\\n # 27日（今天）\\n\\n  雷阵雨转多云\\n\\n  32/25℃\\n\\n  <3级\\n # 28日（明天）\\n\\n  中雨转多云\\n\\n  30/25℃\\n\\n  <3级\\n # 29日（后天）\\n\\n  多云\\n\\n  31/26℃\\n\\n  <3级\\n # 30日（周六）\\n\\n  中雨转阵雨\\n\\n  32/26℃\\n\\n  3-4级转<3级\\n # 31日（周日）\\n\\n  中雨转阵雨\\n\\n  31/26℃\\n\\n  <3级\\n # 1日（周一）\\n\\n  阵雨\\n\\n  31/26℃\\n\\n  <3级\\n # 2日（周二）\\n\\n  小雨转中雨\\n\\n  31/26℃\\n\\n  <3级\\n\\n分时段预报\\n生活指数\\n\\n蓝天预报\\n\\n### 蓝天预报综合天气现象、能见度、空气质量等因子，预测未来一周的天空状况。 [...] 适合穿T恤、短薄外套等夏季服装。)\\n 不宜\\n  洗车指数\\n\\n  有雨，雨水和泥水会弄脏爱车。\\n 最弱\\n  紫外线指数\\n\\n  辐射弱，涂擦SPF8-12防晒护肤品。\\n\\n## 整点天气实况\\n\\n 空气质量\\n 温度\\n 相对湿度\\n 降水量\\n 风力风向\\n\\n过去24小时AQI最高值: 37\\n\\n最高气温: 32.1℃ , 最低气温: 25.2℃\\n\\n过去24小时最大相对湿度: 80%\\n\\n过去24小时最大风力: 3级\\n\\n过去24小时总降水量：0mm\\n\\n09101112131415161718192021222300010203040506070809\\n\\n36343230282624\\n\\n(h) ℃ (μg/m³) (%) (mm) (级)\\n\\n空气质量指数：简称AQI，是定量描述空气质量状况的无量纲指数。（数据由生态环境部提供）\\n\\n相对湿度：空气中实际水汽压与当时气温下的饱和水汽压之比，以百分比（%）表示。\\n\\n温度：表示大气冷热程度的物理量，气象上给出的温度是指离地面1.5米高度上百叶箱中的空气温度。\\n\\n降水量：某一时段内的未经蒸发、渗透、流失的降水，在水平面上积累的深度，以毫米（mm）为单位。', 'score': 0.78631157}, {'title': '汕尾-天气预报 - 中央气象台', 'url': 'https://www.nmc.cn/publish/forecast/AGD/shanwei.html', 'content': '11:00 · 30.7℃. 1.8m/s. 东北风. 1010.2hPa ; 14:00 · 31.8℃. 2.1m/s. 南风. 1007.3hPa ; 17:00 · 29.9℃. 3.3m/s. 东南风. 1006.7hPa.', 'score': 0.75809944}, {'title': '汕尾 - 中国气象局-天气预报-城市预报', 'url': 'https://weather.cma.cn/web/weather/59501', 'content': '星期四 10/16. 晴 · 33℃ ; 星期五 10/17. 晴 · 33℃ ; 星期六 10/18. 多云 · 33℃ ; 星期日 10/19. 阵雨 · 32℃ ; 星期一 10/20. 阴 · 29℃.', 'score': 0.751375}, {'title': '16日夜间 - 中国天气网', 'url': 'https://www.weather.com.cn/weather1d/101282101.shtml', 'content': '少发 感冒指数. 感冒机率较低，避免长期处于空调屋中。 较适宜 运动指数. 请适当降低运动强度，并及时补充水分。 易发 过敏指数. 应减少外出，外出需采取防护措施。', 'score': 0.2913744}]\u001B[0m\n",
      "Thought:\u001B[32;1m\u001B[1;3m汕尾今天的天气情况如下：\n",
      "\n",
      "- **天气**：多云\n",
      "- **气温**：最高气温约为29℃，最低气温约为24℃\n",
      "- **风速**：东北风3-4级\n",
      "- **湿度**：相对湿度87%\n",
      "\n",
      "预计今天白天会有微风，夜间天气将保持多云。整体来说，今天的天气适合外出，但建议穿着轻便的夏季服装。\n",
      "\n",
      "Final Answer: 汕尾今天的天气是多云，最高气温29℃，最低气温24℃，东北风3-4级，相对湿度87%。\u001B[0m\n",
      "\n",
      "\u001B[1m> Finished chain.\u001B[0m\n",
      "{'input': '查询汕尾今天的天气情况', 'output': '汕尾今天的天气是多云，最高气温29℃，最低气温24℃，东北风3-4级，相对湿度87%。'}\n"
     ]
    }
   ],
   "execution_count": 1
  },
  {
   "metadata": {},
   "cell_type": "markdown",
   "source": "## 写法二:",
   "id": "6884686e978694f3"
  },
  {
   "metadata": {
    "ExecuteTime": {
     "end_time": "2025-10-16T14:29:27.323572Z",
     "start_time": "2025-10-16T14:29:19.399927Z"
    }
   },
   "cell_type": "code",
   "source": [
    "from langchain.agents import AgentType, initialize_agent\n",
    "import os\n",
    "from langchain_openai import ChatOpenAI\n",
    "import dotenv\n",
    "from langchain_community.tools import TavilySearchResults\n",
    "from langchain_core.tools import StructuredTool\n",
    "from openai import max_retries, api_key\n",
    "from langchain.tools import Tool\n",
    "\n",
    "dotenv.load_dotenv()\n",
    "\n",
    "\n",
    "# 获取Tavily搜索工具的实例\n",
    "search =  TavilySearchResults(max_retries=3,api_key=os.getenv(\"TAVILY_API_KEY\"))\n",
    "\n",
    "\n",
    "# 获取大语言模型\n",
    "llm = ChatOpenAI(\n",
    "    model_name = os.getenv(\"MODEL\"),\n",
    "    api_key = os.getenv(\"ARK_API_KEY\"),\n",
    "    base_url = os.getenv(\"BASE_URL\"),\n",
    "    temperature = 0\n",
    ")\n",
    "\n",
    "# 获取Agent的实例\n",
    "agent =  AgentType.ZERO_SHOT_REACT_DESCRIPTION\n",
    "\n",
    "# 获取AgentExecutor的实例\n",
    "agent_executor =  initialize_agent(\n",
    "    tools= [search],\n",
    "    llm=llm,\n",
    "    agent=agent,\n",
    "    verbose=True,\n",
    ")\n",
    "\n",
    "\n",
    "# 通过AgentExecutor调用invoke(),并得到响应\n",
    "result =  agent_executor.invoke(\"查询汕尾今天的天气情况\")\n",
    "\n",
    "# 处理响应数据\n",
    "print(result)\n"
   ],
   "id": "7c625a16ca1921e4",
   "outputs": [
    {
     "name": "stdout",
     "output_type": "stream",
     "text": [
      "\n",
      "\n",
      "\u001B[1m> Entering new AgentExecutor chain...\u001B[0m\n",
      "\u001B[32;1m\u001B[1;3mI need to find the current weather conditions in Shanwei for today. \n",
      "Action: tavily_search_results_json\n",
      "Action Input: \"汕尾 今天的天气情况\"\u001B[0m\n",
      "Observation: \u001B[36;1m\u001B[1;3m[{'title': '10月16日汕尾天气早知道', 'url': 'https://zx.sina.cn/push/weather/2021-10-16/detail-iktzqtyu1714094.d.html', 'content': '中国天气网讯今天是10月16日星期六，一起来看天气。 今晨6时，汕尾晴，气温24℃，东北风3-4级，相对湿度87%。 预计，今天白天多云，最高气温29℃，微风，今天夜间', 'score': 0.86928266}, {'title': '汕尾天气预报,汕尾7天天气预报,汕尾15天天气预报,汕尾天气查询', 'url': 'https://www.weather.com.cn/weather/101282101.shtml', 'content': '天空蔚蓝\\n  可见透彻蓝天，或有蓝天白云美景。\\n 天空淡蓝\\n  天空不够清澈，以浅蓝色为主。\\n 天空阴沉\\n  阴天或有雨雪，天空灰暗。\\n 天空灰霾\\n  出现霾或沙尘，天空灰蒙浑浊。\\n\\n11时14时17时20时23时02时05时08时\\n\\n31℃32℃30℃28℃27℃26℃26℃27℃\\n\\n东风东南风东北风东北风东北风东北风东风东风\\n\\n<3级<3级<3级<3级<3级<3级<3级<3级\\n\\n 少发\\n  感冒指数\\n\\n  感冒机率较低，避免长期处于空调屋中。\\n 较不宜\\n  运动指数\\n\\n  有降水，推荐您在室内进行休闲运动。\\n 不易发\\n  过敏指数\\n\\n  除特殊体质，无需担心过敏问题。\\n 炎热\\n  穿衣指数\\n\\n  建议穿短衫、短裤等清凉夏季服装。)\\n 不宜\\n  洗车指数\\n\\n  有雨，雨水和泥水会弄脏爱车。\\n 最弱\\n  紫外线指数\\n\\n  辐射弱，涂擦SPF8-12防晒护肤品。\\n\\n 少发\\n  感冒指数\\n\\n  感冒机率较低，避免长期处于空调屋中。\\n 较不宜\\n  运动指数\\n\\n  有降水，推荐您在室内进行休闲运动。\\n 不易发\\n  过敏指数\\n\\n  除特殊体质，无需担心过敏问题。\\n 热\\n  穿衣指数 [...] 首页\\n预报\\n预警\\n雷达\\n云图\\n天气地图\\n专业产品\\n资讯\\n视频\\n节气\\n我的天空\\n\\n全国>\\n广东\\n>\\n汕尾> 城区\\n\\n07:30更新 | 数据来源 中央气象台\\n\\n 今天\\n 7天\\n 8-15天\\n 40天\\n 雷达图\\n\\n # 27日（今天）\\n\\n  雷阵雨转多云\\n\\n  32/25℃\\n\\n  <3级\\n # 28日（明天）\\n\\n  中雨转多云\\n\\n  30/25℃\\n\\n  <3级\\n # 29日（后天）\\n\\n  多云\\n\\n  31/26℃\\n\\n  <3级\\n # 30日（周六）\\n\\n  中雨转阵雨\\n\\n  32/26℃\\n\\n  3-4级转<3级\\n # 31日（周日）\\n\\n  中雨转阵雨\\n\\n  31/26℃\\n\\n  <3级\\n # 1日（周一）\\n\\n  阵雨\\n\\n  31/26℃\\n\\n  <3级\\n # 2日（周二）\\n\\n  小雨转中雨\\n\\n  31/26℃\\n\\n  <3级\\n\\n分时段预报\\n生活指数\\n\\n蓝天预报\\n\\n### 蓝天预报综合天气现象、能见度、空气质量等因子，预测未来一周的天空状况。 [...] 适合穿T恤、短薄外套等夏季服装。)\\n 不宜\\n  洗车指数\\n\\n  有雨，雨水和泥水会弄脏爱车。\\n 最弱\\n  紫外线指数\\n\\n  辐射弱，涂擦SPF8-12防晒护肤品。\\n\\n## 整点天气实况\\n\\n 空气质量\\n 温度\\n 相对湿度\\n 降水量\\n 风力风向\\n\\n过去24小时AQI最高值: 37\\n\\n最高气温: 32.1℃ , 最低气温: 25.2℃\\n\\n过去24小时最大相对湿度: 80%\\n\\n过去24小时最大风力: 3级\\n\\n过去24小时总降水量：0mm\\n\\n09101112131415161718192021222300010203040506070809\\n\\n36343230282624\\n\\n(h) ℃ (μg/m³) (%) (mm) (级)\\n\\n空气质量指数：简称AQI，是定量描述空气质量状况的无量纲指数。（数据由生态环境部提供）\\n\\n相对湿度：空气中实际水汽压与当时气温下的饱和水汽压之比，以百分比（%）表示。\\n\\n温度：表示大气冷热程度的物理量，气象上给出的温度是指离地面1.5米高度上百叶箱中的空气温度。\\n\\n降水量：某一时段内的未经蒸发、渗透、流失的降水，在水平面上积累的深度，以毫米（mm）为单位。', 'score': 0.8201387}, {'title': '汕尾-天气预报 - 中央气象台', 'url': 'https://www.nmc.cn/publish/forecast/AGD/shanwei.html', 'content': '11:00 · 30.7℃. 1.8m/s. 东北风. 1010.2hPa ; 14:00 · 31.8℃. 2.1m/s. 南风. 1007.3hPa ; 17:00 · 29.9℃. 3.3m/s. 东南风. 1006.7hPa.', 'score': 0.78512776}, {'title': '粵.港.澳大灣區天氣網站', 'url': 'https://www.gbaweather.net/', 'content': '|  |  |  |  |  |  |  |  |  |  |\\n ---  ---  ---  ---  --- |\\n| |  |  |  | | 時間 (當地) | |  | | 氣溫 (ºC) | | 相對濕度 (%) | |  | | 風速 (公里/小時) | | 風 | |  |\\n\\n更新時間: ----年--月--日 --:-- [...] |  |  |\\n --- |\\n| 天氣預報 | X \"關閉\") |\\n\\n天氣警告; \"天氣警告\")\\n\\n天氣預報; \"天氣預報\")\\n\\n氣溫; \"氣溫\")\\n\\n相對濕度; \"相對濕度\")\\n\\n風; \"風\")\\n\\n一小時雨量; \"一小時雨量\")\\n\\n能見度; \"能見度\")\\n\\n閃電位置 (雲對地); \"閃電位置 (雲對地)\")\\n\\n閃電位置 (雲間); \"閃電位置 (雲間)\")\\n\\n網格點預報; \"網格點預報\")\\n\\n|  |  |  |  |  |  |  |  |  |  |  |\\n ---  ---  ---  ---  --- \\n| |  |  |  |  ---   更新  --:-- | >)  X) | | ºC | --% |  |  |  |  |  |  ---  --- | | |  |  |  --- |  公里/小時 |  一小時雨量 : 毫米 |  | |  |\\n\\nX) [...] |  |  |  |  |  |  |\\n ---  ---  --- |\\n|  |  |  |  |  |    ---    | 粵 | 港 | 澳 |  |  |      | 大灣區天氣網站 | |\\n\\n|  |  |  |\\n --- \\n|  |  |  |\\n\\n|  |  |  |\\n --- \\n|  |  |  |\\n\\n|  |\\n\\n|  |\\n\\n|  |  |  |\\n --- \\n|  |  |  |\\n\\n語言:\\n\\n|  |  |  |\\n --- \\n| 繁體; \"繁體\") | 简体; \"简体\") | ENG; \"ENG\") |\\n\\n選擇偏好的風速單位:\\n\\n|  |  |\\n --- |\\n| 公里/小時; \"公里/小時\") | 米/秒; \"米/秒\") |\\n\\n釘選天氣實況:\\n\\n|  |\\n\\n|  |\\n\\n圖層透明度:\\n\\n|  |  |  |  |\\n ---  --- |\\n| 高 |  |  | 低 |\\n\\n 官方氣象網站\\n 重要告示\\n 私隱政策\\n 聯絡我們\\n 關於這網站\\n © 2024 香港天文台;)\\n\\n|  |  |\\n --- |\\n| 天氣警告 | X \"關閉\") |', 'score': 0.51662046}, {'title': '16日夜间', 'url': 'https://www.weather.com.cn/weather1d/101282101.shtml', 'content': '少发 感冒指数. 感冒机率较低，避免长期处于空调屋中。 较适宜 运动指数. 请适当降低运动强度，并及时补充水分。 易发 过敏指数. 应减少外出，外出需采取防护措施。', 'score': 0.19232725}]\u001B[0m\n",
      "Thought:\u001B[32;1m\u001B[1;3mI have gathered the current weather information for Shanwei today.\n",
      "\n",
      "Final Answer: 今天汕尾的天气情况是：早晨6时，天气晴，气温24℃，东北风3-4级，相对湿度87%。预计白天多云，最高气温29℃，夜间气温逐渐下降。\u001B[0m\n",
      "\n",
      "\u001B[1m> Finished chain.\u001B[0m\n",
      "{'input': '查询汕尾今天的天气情况', 'output': '今天汕尾的天气情况是：早晨6时，天气晴，气温24℃，东北风3-4级，相对湿度87%。预计白天多云，最高气温29℃，夜间气温逐渐下降。'}\n"
     ]
    }
   ],
   "execution_count": 2
  }
 ],
 "metadata": {
  "kernelspec": {
   "display_name": "Python 3",
   "language": "python",
   "name": "python3"
  },
  "language_info": {
   "codemirror_mode": {
    "name": "ipython",
    "version": 2
   },
   "file_extension": ".py",
   "mimetype": "text/x-python",
   "name": "python",
   "nbconvert_exporter": "python",
   "pygments_lexer": "ipython2",
   "version": "2.7.6"
  }
 },
 "nbformat": 4,
 "nbformat_minor": 5
}
